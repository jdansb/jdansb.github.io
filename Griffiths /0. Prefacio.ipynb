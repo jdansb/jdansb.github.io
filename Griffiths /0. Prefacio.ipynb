{
  "nbformat": 4,
  "nbformat_minor": 0,
  "metadata": {
    "colab": {
      "provenance": [],
      "authorship_tag": "ABX9TyOfwniY52oWOk4zpl2A+G+c",
      "include_colab_link": true
    },
    "kernelspec": {
      "name": "python3",
      "display_name": "Python 3"
    },
    "language_info": {
      "name": "python"
    }
  },
  "cells": [
    {
      "cell_type": "markdown",
      "metadata": {
        "id": "view-in-github",
        "colab_type": "text"
      },
      "source": [
        "<a href=\"https://colab.research.google.com/github/jdansb/jdansb.github.io/blob/main/Griffiths%20/0.%20Prefacio.ipynb\" target=\"_parent\"><img src=\"https://colab.research.google.com/assets/colab-badge.svg\" alt=\"Open In Colab\"/></a>"
      ]
    },
    {
      "cell_type": "markdown",
      "source": [
        "# Preface"
      ],
      "metadata": {
        "id": "EYz-e2G3byri"
      }
    },
    {
      "cell_type": "markdown",
      "source": [
        "> *There is no general consensus on what the fundamental principles of quantum mechanics are, how it should be taught, or even what it really “means.” Every competent physicist knows how to “do” quantum mechanics, but the stories we tell ourselves about what we are doing are as varied as Scheherazade's tales—and almost as implausible... However, there is a consensus that it is not possible to intelligently discuss the meaning of quantum mechanics without first having a clear understanding of what it actually does.* (Introduction to Quantum Mechanics - 3rd Edition, David J. Griffiths)"
      ],
      "metadata": {
        "id": "odlNfP6kYYU1"
      }
    },
    {
      "cell_type": "markdown",
      "source": [
        "I have been trying to start a project involving physics—more specifically, quantum mechanics—for quite some time. Recently, I had an idea that I believe could extend to all of physics, but I intend to start with quantum physics, as I feel a certain urgency to review it. The truth is that all divisions between areas of science are, to a large extent, artificial. I myself often criticize these divisions, and so I recognize that this project is, in a way, hypocritical: in it, I will end up deepening this separation.\n",
        "\n",
        "I understand physics as the science dedicated to describing how physical quantities—those that can be measured—evolve over time. How these quantities are interpreted is, in many ways, a separate discussion, often of a more philosophical nature[^1].\n",
        "\n",
        "In this project—which begins with quantum physics—I propose to remove, as much as possible, all interpretive discussion. A competent physicist, of course, cannot avoid these issues, and so I am aware that the material I propose will be intentionally insufficient in this regard. My proposal is that the reader understand what is most indisputable in physics: the mathematical description of the theory. From this domain, the reader can then engage in the discussion about interpretations in a more solid and conscious manner.\n",
        "\n",
        "I am also writing this material based on the conviction that, from a physics perspective, the main difficulty faced by students lies precisely in the mathematical formulation of theories. Thus, starting with quantum mechanics, my goal is to produce concise content that serves as a support for interested students.\n",
        "\n",
        "To achieve this goal, I will review quantum mechanics based on the book Introduction to Quantum Mechanics (3rd edition, David J. Griffiths). In addition to reviewing the mathematics presented in the book—both in the theoretical exposition and in the examples—I will solve all the exercises marked with one asterisk, as they are considered essential by the author. Thus, this project can be seen as an extension of the content presented in this book.\n",
        "\n",
        "One issue I would like to draw the reader's attention to before concluding is to reflect on what we actually measure directly—such as distance—and what depends on models (whether physical or mathematical) and is derived from what can be measured directly. For example, we cannot directly measure “weight”. But we can calculate this quantity from other direct measurements, such as the displacement of an object from an initial point after being suspended on a spring (spring scale). This is an interesting debate, which I will leave open for now. For now, suffice it to say that I will work with fundamental quantities.\n",
        "\n",
        "[^1]: Still, I believe that a good interpretation favors the progress of science, while an inadequate interpretation can represent an obstacle."
      ],
      "metadata": {
        "id": "Qukp8Pf2YcsJ"
      }
    }
  ]
}