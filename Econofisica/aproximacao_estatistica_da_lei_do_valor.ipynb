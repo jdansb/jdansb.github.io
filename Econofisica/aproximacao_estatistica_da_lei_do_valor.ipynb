{
  "nbformat": 4,
  "nbformat_minor": 0,
  "metadata": {
    "colab": {
      "provenance": [],
      "name": "aproximacao_estatistica_da_lei_do_valor.ipynb",
      "authorship_tag": "ABX9TyOqtfrQ3PQiiiHspbNEKo8l",
      "include_colab_link": true
    },
    "kernelspec": {
      "name": "python3",
      "display_name": "Python 3"
    },
    "language_info": {
      "name": "python"
    }
  },
  "cells": [
    {
      "cell_type": "markdown",
      "metadata": {
        "id": "view-in-github",
        "colab_type": "text"
      },
      "source": [
        "<a href=\"https://colab.research.google.com/github/jdansb/jdansb.github.io/blob/main/Econofisica/aproximacao_estatistica_da_lei_do_valor.ipynb\" target=\"_parent\"><img src=\"https://colab.research.google.com/assets/colab-badge.svg\" alt=\"Open In Colab\"/></a>"
      ]
    },
    {
      "cell_type": "markdown",
      "source": [
        "Baseado no livro Classical Econophysics do Paul Cockshott (e outros), quero discutir algumas questões, especificamente o capítulo 9 chamado, em uma traduçaõ livre: “uma aproximação estatística da lei do valor”. Primeiro precisamos ter claramente que há uma distinção entre valor e preço. Nas palavras do Paul Cockshott:"
      ],
      "metadata": {
        "id": "2HPfBeGpcM7m"
      }
    },
    {
      "cell_type": "code",
      "source": [
        "def P1(E,A,l,N):\n",
        "  '''Produção'''\n",
        "  for i in range(N): #Percorrir i agentes\n",
        "    j = A[i]          #Mercadoria que o agente ta produzindo\n",
        "    E[i][j]+=l[j]\n",
        "  return\n"
      ],
      "metadata": {
        "id": "cuUH9D2gg7im"
      },
      "execution_count": 6,
      "outputs": []
    },
    {
      "cell_type": "code",
      "source": [
        "def C1(c,D,N,L,E):\n",
        "  '''Consumo'''\n",
        "  for i in range(N):    #Para todo agente i\n",
        "    for j in range(L):  #E mercadoria j\n",
        "      D[i][j]+=c[j]     #Aumentamos o déficit\n",
        "      consumo = D[i][j] if (D[i][j]<E[i][j]) else E[i][j]\n",
        "  return\n"
      ],
      "metadata": {
        "id": "zIazB6pbhL6z"
      },
      "execution_count": 7,
      "outputs": []
    },
    {
      "cell_type": "code",
      "source": [
        "def O1(m):\n",
        "  '''Preço'''\n",
        "  preco = random.random()*m\n",
        "  return preco"
      ],
      "metadata": {
        "id": "uydpRbO9i38w"
      },
      "execution_count": null,
      "outputs": []
    },
    {
      "cell_type": "code",
      "source": [
        "def M1(L,E,D,m):\n",
        "  '''Mercado'''\n",
        "  #Precisamos checar para cada mercadoria se há compradores e vendedores\n",
        "  Nres=[] #Mercadorias ainda não resolvidas\n",
        "  for x in range(L):\n",
        "I I"
      ],
      "metadata": {
        "id": "AguXpdsMjHmV"
      },
      "execution_count": null,
      "outputs": []
    },
    {
      "cell_type": "code",
      "execution_count": 12,
      "metadata": {
        "id": "qwtUf3ZaacqY"
      },
      "outputs": [],
      "source": [
        "def R1(N,L,M,R):\n",
        "  '''Simulação'''\n",
        "  #Vetores e matrizes\n",
        "  #Individual\n",
        "  E=np.zeros((N,L))                           #Mercadorias em posse de cada agente, cada linha é um vetor ei\n",
        "  A=np.zeros(N,dtype=int)                     #Vetor com a mercadoria sendo produzida pelo agente i\n",
        "  D=np.zeros((N,L)) #Matriz com o deficit de consumo de cada gente de cada mercadoria, cada linha é uma matriz di\n",
        "  m=np.full(N, M/N)                                 # Dinheiro de cada agente\n",
        "\n",
        "  lmin= 1/R              #Valor mínimo possível de consumo\n",
        "  #GLobal\n",
        "  l=np.random.random(L)*(1-lmin)+lmin # Incremente a cada passo na produção de cada mercadoria\n",
        "  c=np.random.random(L)   # Aumento de desejo a cada passo de cada mercadoria\n",
        "  F=np.sum(c/l)          # Calculando o fator de reescala\n",
        "  c=c/F                  # Fazendo\n",
        "  return N,L,E,A,D,m,l,c"
      ]
    },
    {
      "cell_type": "code",
      "source": [
        "import numpy  as np\n",
        "import random\n",
        "N = 10      #Númerode trabalhadores\n",
        "L = 2       #Quantidad de mercadorias\n",
        "M = 100     #Moedas na simulação\n",
        "R = 10      #Tempo máximo possível de consumo\n",
        "C = 1       #Parâmetro de troca\n",
        "p = 10      #Duração da simulação\n",
        "\n",
        "\n",
        "N,L,E,A,D,m,l,c = R1(N,L,M,R,C)\n",
        "for x in range(p):\n",
        "  P1(E,A,l,N)\n",
        "  C1(c,D,N,L,E)\n",
        "  M1(L)"
      ],
      "metadata": {
        "id": "uQZE8rgVcOzp"
      },
      "execution_count": 13,
      "outputs": []
    },
    {
      "cell_type": "code",
      "source": [
        "a=1;A=2; print(a,A)"
      ],
      "metadata": {
        "colab": {
          "base_uri": "https://localhost:8080/"
        },
        "id": "fZaCM7fheXQW",
        "outputId": "2cae8133-732d-4cec-fa31-c3d8ae163687"
      },
      "execution_count": 21,
      "outputs": [
        {
          "output_type": "stream",
          "name": "stdout",
          "text": [
            "1 2\n"
          ]
        }
      ]
    },
    {
      "cell_type": "code",
      "source": [
        "c"
      ],
      "metadata": {
        "id": "Rkz3Iu0beph_",
        "colab": {
          "base_uri": "https://localhost:8080/"
        },
        "outputId": "b9445add-c197-4687-b7d3-6051ce5a41d4"
      },
      "execution_count": 15,
      "outputs": [
        {
          "output_type": "execute_result",
          "data": {
            "text/plain": [
              "array([0.3347249 , 0.00573828])"
            ]
          },
          "metadata": {},
          "execution_count": 15
        }
      ]
    },
    {
      "cell_type": "code",
      "source": [
        "sum(c/l)"
      ],
      "metadata": {
        "id": "1-dL2EB_nSky",
        "outputId": "5e7fe010-3372-40ba-ca87-c0f43d271e42",
        "colab": {
          "base_uri": "https://localhost:8080/"
        }
      },
      "execution_count": 16,
      "outputs": [
        {
          "output_type": "execute_result",
          "data": {
            "text/plain": [
              "np.float64(1.0)"
            ]
          },
          "metadata": {},
          "execution_count": 16
        }
      ]
    },
    {
      "cell_type": "code",
      "source": [],
      "metadata": {
        "id": "ZEk4k7LRnXKl"
      },
      "execution_count": null,
      "outputs": []
    }
  ]
}