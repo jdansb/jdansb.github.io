{
  "nbformat": 4,
  "nbformat_minor": 0,
  "metadata": {
    "colab": {
      "provenance": [],
      "name": "aproximacao_estatistica_da_lei_do_valor.ipynb",
      "authorship_tag": "ABX9TyOF5wkFbTOOUW0T8bVj3R39",
      "include_colab_link": true
    },
    "kernelspec": {
      "name": "python3",
      "display_name": "Python 3"
    },
    "language_info": {
      "name": "python"
    }
  },
  "cells": [
    {
      "cell_type": "markdown",
      "metadata": {
        "id": "view-in-github",
        "colab_type": "text"
      },
      "source": [
        "<a href=\"https://colab.research.google.com/github/jdansb/jdansb.github.io/blob/main/Econofisica/aproximacao_estatistica_da_lei_do_valor.ipynb\" target=\"_parent\"><img src=\"https://colab.research.google.com/assets/colab-badge.svg\" alt=\"Open In Colab\"/></a>"
      ]
    },
    {
      "cell_type": "markdown",
      "source": [
        "Baseado no livro Classical Econophysics do Paul Cockshott (e outros), quero discutir algumas questões, especificamente o capítulo 9 chamado, em uma traduçaõ livre: “uma aproximação estatística da lei do valor”. Primeiro precisamos ter claramente que há uma distinção entre valor e preço. Nas palavras do Paul Cockshott:\n",
        "* **Valor**: é determinado pelas condições técnicas de produção\n",
        "prevalecentes e medido pelo tempo de trabalho socialmente necessário\n",
        "para produzi-la.\n",
        "* **Preço**: que é a quantidade de dinheiro que a mercadoria rende\n",
        "no mercado.\n",
        "\n",
        "Em uma simplificação teórica do capitalismo (chamado de 11economia\n",
        "de mercadoria simples'') o preços tendem aos valores, e é isso que queremos demonstrar."
      ],
      "metadata": {
        "id": "2HPfBeGpcM7m"
      }
    },
    {
      "cell_type": "markdown",
      "source": [
        "# TO AQUI\n",
        "\n",
        "\\subsection{O Modelo}\n",
        "\n",
        "\\textbf{Vamos ter}:\n",
        "\n",
        "* $N$ trabalhadores (identificados por um inteiro $i$ entre 1 e\n",
        "$N$).\n",
        "\n",
        ". $L$ mercadorias (identificadas por um inteiro $j$ entre $1$ e\n",
        "$L$).\n",
        "\n",
        ". Uma quantidade total e constante de dinheiro $M=\\sum_{i}^{N}m_{i}$\n",
        "\n",
        ". Cada trabalhador produz uma mercadoria de cada vez.\n",
        "\n",
        ". Cada mercadoria é simples: não exige outra mercadoria para ser produzida\n",
        "e pode ser produzia por um único trabalhador, assim como todos trabalhadores\n",
        "produzem com a mesma eficiência uma mesma mercadoria.\n",
        "\n",
        "\\textbf{Regra de produção }$P_{1}$:\n",
        "\n",
        ". No começo da simulação, cada agente $i$ tem um vetor $\\boldsymbol{e}_{i}=\\boldsymbol{0}$que\n",
        "indica a quantidade de mercadorias o agente $i$ possui.\n",
        "\n",
        ". A mercadoria $j$ sendo produzida pelo ator $i$ é dado por $A\\left(i\\right)=j$,\n",
        "podemos pensar que existe um vetor $\\boldsymbol{A}$ nos dá o que\n",
        "cada agente $i$ está produzindo no momento.\n",
        "\n",
        ". Cada mercadoria precisa de $l_{j}$ passos pra ser produzida. Ou\n",
        "seja, a cada passo ela produz $L=1/l_{j}$unidades. Vamos definir\n",
        "um vetor $\\boldsymbol{l}=\\left(1/l_{1},\\dots,1/l_{L}\\right)=\\left(L_{1},\\dots,L_{L}\\right)$.\n",
        "\n",
        "Então o ator $i$ gera uma unidade da mercadoria $A\\left(i\\right)$\n",
        "a cada $l_{A\\left(i\\right)}$ passos, e como conssequência o elemento\n",
        "do vetor $e_{i}\\left[A_{i}\\left(i\\right)\\right]$ é incrementado em\n",
        "uma unidade.\n",
        "\n",
        "\\textbf{Regra de consumo} $C_{1}$\n",
        "\n",
        ". Todos os agentes tem o mesmo desejo de consumo dado por um vetor\n",
        "global $\\boldsymbol{c}=\\left(1/c_{1},\\dots,1/c_{L}\\right)=\\left(C_{1},\\dots,C_{L}\\right)$.\n",
        "\n",
        ". Cada agente $i$ tem um vetor de deficit de consumo inicializado\n",
        "como $\\boldsymbol{d}_{i}=0$.\n",
        "\n",
        ". De modo anlálogo, a cada $c_{j}$ passos é incrementado o elemento\n",
        "$\\boldsymbol{d}_{i}\\left[j\\right]$ em 1, ou seja a cada passo seu\n",
        "desejo aumenta em $C_{j}=1/c_{j}$ unidades.\n",
        "\n",
        ". A cada passo o ator $i$ consome mercadorias dada pelo vetor $\\boldsymbol{o}_{i}=\\text{min}\\left(\\boldsymbol{e}_{i},\\boldsymbol{d}_{i}\\right)$.\n",
        "Ou seja, por exemplo, pra mercadoria $j=1$ se o agente não nenhuma\n",
        "unidade dela $e_{i}\\left[1\\right]=0$ ele não pode consumir, ou também\n",
        "se não tem desejo $d_{i}\\left[1\\right]=0$, também não irá consumir.\n",
        "Se em ambos os casos o valor não é 0, caso ele tenha mais bens do\n",
        "que deseje consumir $e_{i}\\left[1\\right]>d_{i}\\left[1\\right]$, então\n",
        "ele vai consumir só o que deseja $d_{i}\\left[1\\right]$. Se ele ter\n",
        "menos bens do que deseja consumir $e_{i}\\left[1\\right]<d_{i}\\left[1\\right]$\n",
        "vai consumir tudo que tem $e_{i}\\left[1\\right]$. De toda forma o\n",
        "que ele vai consumir vai ser dado pelo menor valor $o_{i}\\left[1\\right]=\\text{min}\\left(e_{i}\\left[1\\right],d_{i}\\left[1\\right]\\right)$.\n",
        "\n",
        ". Evidentemente essa quantidade precisa ser descontada do desejo e\n",
        "das mercadorias em posse, logo: $\\boldsymbol{e}'_{i}=\\boldsymbol{e}_{i}-\\boldsymbol{o}_{i}$\n",
        "e $\\boldsymbol{d}'_{i}=\\boldsymbol{d}_{i}-\\boldsymbol{o}_{i}$\n",
        "\n",
        "\\textbf{Coeficiente de reprodução $\\eta=\\sum\\frac{l_{j}}{c_{j}}=\\sum\\frac{C_{j}}{L_{j}}$}\n",
        "\n",
        ". $\\eta=1$ significa que a produção é igual o consumo: A simulação\n",
        "vai adotar essa condição.\n",
        "\n",
        ". $\\eta>1$ significa que a economia esta permanentemente em deficit.\n",
        "\n",
        ". $\\eta<1$ a economia tem permanentemente uma produção extra.\n",
        "\n",
        "Como sob nenhuma hipótese temos $c_{j}<0$ ou $l_{j}<0$, para que\n",
        "evitar que $\\eta>1$ então nehum termo pode ser $\\frac{l_{j}}{c_{j}}>1$,\n",
        "ou ainda se tivermos mais de uma mercadoria, então precisamos ser\n",
        "ainda mais restritivos e exigir que $\\frac{l_{j}}{c_{j}}<1$ ou $l_{j}<c_{j}$\n",
        "que é igual a $C_{j}<L_{j}$. Ou seja, deve levar menos passos pra\n",
        "produzir um produto, do que para desejá-lo.\n",
        "\n",
        "Por exemplo se temos duas mercadorias, dois atores e cada um produz\n",
        "uma mercadoria com os valores $l_{j}=1$ e $c_{j}=2$, então $\\eta=0.5+0.5=1$\n",
        "e a cada dois passos cada agente deseja uma mercadoria de cada tipo\n",
        "e produziu 2 de cada tipo, dividndo essas duas mercadorias entre os\n",
        "dois agentes, então todas mercadorias são consumidas e os desejos\n",
        "satisfeitos a cada dois passos. Para construir esses vetores podemos\n",
        "primeiro gerar dois vetores aleatórios $\\boldsymbol{l}=\\left(L_{1},\\cdots,L_{L}\\right)$e\n",
        "$\\boldsymbol{u}=\\left(u_{1},\\cdots,u_{L}\\right)$, fazemos o somatório\n",
        "$\\sum_{i}^{L}\\frac{u_{j}}{L_{j}}=A$, então se dividimos os dois lados\n",
        "por $A$:\n",
        "\n",
        "\\[\n",
        "\\sum_{i}^{L}\\frac{1}{A}\\frac{u_{j}}{L_{j}}=\\frac{A}{A}\\rightarrow\\sum_{i}^{L}\\frac{u_{j}/A}{L_{j}}=1=\\sum_{i}^{L}\\frac{C_{j}}{L_{j}}\n",
        "\\]\n",
        "\n",
        "Ou seja, os elementos do vetor $\\boldsymbol{c}$ são $C_{j}=\\frac{u_{j}}{A}$,\n",
        "ou ainda $\\boldsymbol{c}=\\frac{\\boldsymbol{u}}{A}$.\n",
        "\n",
        "\\textbf{Regra da oferta de preço} $O_{1}$\n",
        "\n",
        ". O preço da mercadoria $j$ de acordo com o ator $i$ é um valor\n",
        "$p_{j}^{i}$ que é obtido aleatoriamente no intervalo $\\left[0,m_{i}\\right]$.\n",
        "\n",
        "\\textbf{Regra do mercado} $M_{1}$:\n",
        "\n",
        "O mercado de determinada mercadoria é considerado ``resolvido''quando\n",
        "não há mais compradores ou vendedores para uma determinada mercadoria,\n",
        "ou colocando de outra forma, não estar resolvido implica que há compradores\n",
        "e vendedores. Então começamos com um conjunto de $C$ de mercadorias\n",
        "que não foram resolvidas no mercado:\n",
        "\n",
        "1. Selecionamos uma mercadoria $j$ aleatoriamente do conjunto $C$;\n",
        "\n",
        "2. Selecionamos um agente vendedor $s$ aleatoriamente do conjunto\n",
        "de vendedores potenciais: Isto é, agentes que possuem mais mercadorias\n",
        "do que desejam consumir, $e_{i}\\left[j\\right]>d_{i}\\left[j\\right]$.\n",
        "\n",
        "3. Selecionamos um agente comprador $b$ aleatoriamente do conjunto\n",
        "de compradores potenciais: Isto é, agentes que possuem menos mercadorias\n",
        "do que desejam consumir, $e_{i}\\left[j\\right]<d_{i}\\left[j\\right]$.\n",
        "\n",
        "4. Se não havia potencial comprador ou vendedor, removemos a mercadoria\n",
        "$j$ de $C$. Se havia, chamamos a regra $\\boldsymbol{E}_{1}$ de\n",
        "troca.\n",
        "\n",
        "5. Repetimos os passos anteriores até que todas as mercadorias estejam\n",
        "resolvidas.\n",
        "\n",
        "\\textbf{Troca no mercado }$E_{1}$\n",
        "\n",
        "a regra anterior encontra compradores e vendedores pra fazer a troca\n",
        "condicional definida por essa regra.\n",
        "\n",
        ". Uma vez que temos comprador $b$ e vendedor $s$ que estimam os\n",
        "preços $p_{j}^{b}$ e $p_{j}^{s}$ para a mercadoria $j$, então retiramos\n",
        "um preço pra mercadoria do intervalo discreto $\\left[p_{j}^{b},p_{j}^{s}\\right]$:\n",
        "\n",
        ". Se o comprador tem dinheiro suficiente , a troca é realizada: o\n",
        "comprador perde dinheiro e ganha uma unidade de mercadoria, e o vendedor\n",
        "ganha dinheiro e perde uma unidade de mercadoria.\n",
        "\n",
        "\\textbf{Regra de mudança do setor }$S_{1}$\n",
        "\n",
        ". O conjunto $A_{j}=\\left\\{ i:1\\leq i\\leq N,A\\left(i\\right)=j\\right\\} $\n",
        "reúne os agentes $i$ que produzem $j$, isto é os agentes no qual\n",
        "$A\\left(i\\right)=j$\n",
        "\n",
        ". O conjunto $\\boldsymbol{D}=\\left[A_{1},\\dots A_{L}\\right]$ nos\n",
        "dá como os atore estão distribuídos na produção de mercadorias.\n",
        "\n",
        ". Os atores produzem principalmente pra satisfazer suas necessidades.\n",
        "\n",
        "Então:\n",
        "\n",
        ". Após uma quantidade fixa de tempo, cada agente calcula um vetor\n",
        "erro $\\left\\Vert \\boldsymbol{d}_{i}^{n}\\right\\Vert $ e compara com\n",
        "o mesmo vetor calculado em um período anterior $\\left\\Vert \\boldsymbol{d}_{i}^{n-1}\\right\\Vert $\n",
        "\n",
        ". Se o erro aumentou, $\\left\\Vert \\boldsymbol{d}_{i}^{n}\\right\\Vert >\\left\\Vert \\boldsymbol{d}_{i}^{n-1}\\right\\Vert $\n",
        "então ele troca de mercadoria a ser produzida de forma aleatoria.\n",
        "\n",
        "\\textbf{Regra de simulação} $R_{1}$: Todo o ciclo de produção, consumo,\n",
        "troca e realocação na produção segue esta regra. Inicialmente construímos\n",
        "$\\boldsymbol{I}$ e $\\boldsymbol{c}$de forma que $\\eta=1$e alocamos\n",
        "$M/N$ entre todos atores. Então:\n",
        "\\begin{enumerate}\n",
        "\\item Aumentamos o tempo da simulação em um passo\n",
        "\\item Invocamos a regra $P_{1}$ para cada agente\n",
        "\\item Invocamos a regra $C_{1}$ para cada agente\n",
        "\\item Invocamos a regra do mercado $M_{1}$\n",
        "\\item Invocamos a regra $S_{1}$ para cada agente\n",
        "\\item Repetimos.\n",
        "\\end{enumerate}\n",
        "Ou seja:\n",
        "\n",
        "\\[\n",
        "SCE=\\left\\{ R_{1},P_{1},C_{1},O_{1}\\left\\{ M_{1},E_{1}\\right\\} ,S_{1}\\right\\}\n",
        "\\]\n",
        "\n",
        "Os parâmetros, segundo o livro são:\n",
        "\\begin{enumerate}\n",
        "\\item $N$ números de atores\n",
        "\\item $L$ número de mercadorias\n",
        "\\item $M$ quantidade de moedas na simulação\n",
        "\\item $R$ o tempo máximo possível de consumo, usado pra restringir a construção\n",
        "dos vetores $\\boldsymbol{l}$ e $\\boldsymbol{c}$:Vale destacar que\n",
        "os vetors $\\boldsymbol{l}$ e $\\boldsymbol{c}$ contém o inverso do\n",
        "tempo, ou seja, o tempo máximo de consumo, será o valor máximo possível\n",
        "para $l_{i}$ mas então o mínimo possível para $L_{i}=1/l_{i}$ qu\n",
        "são as componentes do vetor $\\boldsymbol{l}$.\n",
        "\\item $C$ a constante múltiplo do $R$ que é um parâmetro de troca. O livro\n",
        "estipula essa exigência, mas na prática, eu não vejo necessidade de\n",
        "ser necessariamente múltiplo de $R$.\n",
        "\\end{enumerate}\n",
        "\n"
      ],
      "metadata": {
        "id": "f5vbO0XLaBCu"
      }
    },
    {
      "cell_type": "markdown",
      "source": [
        "\\subsection{Divisão do trabalho}\n",
        "\n",
        "Vamos retomar ao calculo:\n",
        "\\[\n",
        "\\eta=\\sum\\frac{l_{j}}{c_{j}}=\\sum\\frac{1/c_{j}}{1/l_{j}}=\\sum\\frac{C_{j}}{L_{j}}\n",
        "\\]\n",
        "\n",
        "Vamos olhar para $j_{1}$, temos que $l_{1}/c_{1}=C_{1}/L_{1}$, se\n",
        "por exemplo $l_{1}=1$ temos $L_{1}=1$ o que significa que uma unidade\n",
        "da mercadoria $1$ é produzida por passo por cada agente trabalhando\n",
        "nessa produção. Se $C_{1}=0.5$ significa que $c_{1}=2$ , ou seja\n",
        "uma unidade dessa mercadoria é exigira por agente a cada 2 passos.\n",
        "\n",
        "\\textbf{Definição 1: }Uma divisão do trabalho é eficiente quando para\n",
        "cada mercadoria o número de mercadorias sendo produzidas é igual a\n",
        "demanda.\n",
        "\n",
        "Então a quantidade total de mercadorias $j$ que são demandadas por\n",
        "passo é $NC_{j}$. Se temos uma fração $\\alpha N$ de agentes produzindo\n",
        "mercadoria $j$, a cada unidade de tempo é produzido $a_{j}NL_{j}$.\n",
        "Para obtermos uma divisão eficiente do trabalho:\n",
        "\n",
        "\\[\n",
        "a_{j}NL_{j}=NC_{j}\\quad\\rightarrow a_{j}=\\frac{C_{j}}{L_{j}}=\\frac{l_{j}}{c_{j}}\n",
        "\\]\n",
        "\n",
        "Ou seja, $a_{j}$ é uma eficiente divisão do trabalho.\n",
        "\n",
        "\\subsection{Preços objetivos}\n",
        "\n",
        "Primeiro vamos definir:\n",
        "\\begin{itemize}\n",
        "\\item O preço médio da mercadoria $j$ é dado por $\\left\\langle p_{j}\\right\\rangle $,\n",
        "e temos o vetor $\\boldsymbol{p}=\\left(\\left\\langle p_{1}\\right\\rangle ,\\dots,\\left\\langle p_{L}\\right\\rangle \\right)$\n",
        "\\item Os valores, isto é, a quantidade de tempo embutida na produção das\n",
        "mercadorias são $\\boldsymbol{v}=\\left(l_{1},\\dots,l_{L}\\right)$\n",
        "\\begin{itemize}\n",
        "\\item Para isso devemos lembrar que produzimos uma unidade a cada $l_{j}$\n",
        "passos, ou seja, se o valor de uma mercadoria é $l_{j}=2$ significado\n",
        "que leva 2 passos pra produzir essa mercadora. Evidentemente então\n",
        "produziremos $L_{j}=1/2=0.5$ mercadoria por unidade de passo.\n",
        "\\end{itemize}\n",
        "\\end{itemize}\n",
        "Então se o preço gravita em torno do valor, se ele é proporcional\n",
        "ao valor, podemos escrever:\n",
        "\n",
        "\\[\n",
        "\\boldsymbol{p}=\\lambda\\boldsymbol{v}\n",
        "\\]\n",
        "\n",
        "E $\\lambda$ tem unidade de 'moedas por unidade de de tempo de trabalho'.\n",
        "Podemos definir então a Expressão Monetário do Tempo-Trabalho (MELT\n",
        "em inglês), como a razão do produto líquido a preços correntes em\n",
        "relação ao trabalho produtivo gasto em uma economia em um determinado\n",
        "período de tempo. Como nessa economia simples não tem difeença entre\n",
        "o produto líquido e o grosso, MELT é a simplesmente:\n",
        "\n",
        "\\[\n",
        "\\lambda=\\frac{\\gamma M}{\\sum l_{i}v_{i}}\n",
        "\\]\n",
        "\n",
        "Analisando então passo a passo:\n",
        "\\begin{itemize}\n",
        "\\item O denominador é 'trabalho despendido em um determinado tempo'. Onde\n",
        "$v_{i}$é a velocidade média de troca de uma mercadoria $j$. Então\n",
        "temos um somatório com o trabalho despendido por cada mercadoria por\n",
        "cada passo, nossa unidade de tempo. Por exemplo se olhando pra mercadoria\n",
        "$j=1$. ela é trocada $v_{1}=2$ mercadorias por passo, e essa mercadoria\n",
        "tem um valor de $l_{1}=2$, isto é, leva 2 passos pra ser feito, então\n",
        "temos que o trabalho despendido, ou o tempo de trabalho despendido\n",
        "por passo com a mercadoria $j=1$ sendo trocada é $v_{1}l_{1}=2\\cdot2=4$.\n",
        "Evidentemente esses valores serem factíveis ou não, não interessa,\n",
        "este é apenas um exemplo para reforçar que $\\lambda$ é 'moedas por\n",
        "\\textbf{unidade de tempo de trabalho', }aqui dado em passos.\n",
        "\\item O numerador agora é 'moedas', $\\gamma$ é simplesmente a proporção\n",
        "do dinheiro que é trocado por unidade de tempo, então $\\gamma M$\n",
        "é a velocidade do dinheiro, ou seja, quanto dinheiro é trocado por\n",
        "unidade de tempo.\n",
        "\\end{itemize}\n",
        "Ou seja temos:\n",
        "\n",
        "\\[\n",
        "\\lambda=\\frac{\\text{quanto dinheiro é trocado por unidade de tempo}}{\\text{quanto tempo tempo de trabalho é trocado por unidade de tempo}}=\\frac{\\gamma M}{\\sum l_{i}v_{i}}\n",
        "\\]\n",
        "\n",
        "Ou seja, se temos um fluxo de $20$ moedas por passo e $10$ passos\n",
        "de trabalho sendo trocados a cada passo, então $\\lambda=2$ o que\n",
        "significa que temos '2 moedas por unidade de tempo de trabalho'. Vale\n",
        "dizer que aqui só nos preocupados com as mercadorias que são trocadas\n",
        "e não produzidas. Isto é, estamos interessados apenas no tempo de\n",
        "trabalho envolvido na produção de mercadorias que estão sendo trocadas.\n",
        "As mercadorias que não são trocadas não nos interessam, e isso é dado\n",
        "por uma velocidade $0$. Isto é óbvio uma vez que $\\lambda$ nos dá\n",
        "a relação de preço e valor das mercadorias sendo trocadas, então precisamos\n",
        "levar em conta o preço e o valor das mercadorias sendo trocadas, até\n",
        "porque no nosso modelo, as mercadorias só tem um preço definido na\n",
        "transação quando de fato a transação ocorre.\n",
        "\n",
        "\\textbf{Código}\n",
        "\n",
        "Abaixo vou compartilhar um código que eu fiz baseado no modelo, a\n",
        "notação pode ser levemente diferente pois eu não escrevi o código\n",
        "no mesmo tempo que escrevi este resumo, futuramente eu posso polir\n",
        "esta nota para unificar as notações e tornar mais didático. Eu também\n",
        "não estou trazendo todos os resultados apresentados no livro, eu vou\n",
        "focar no MELT. Outros resultados apresentados no livro é o número\n",
        "de atores em cada setor (comparando os dados da simulação com os valores\n",
        "teóricos ideais), a evolução do preço médio das mercadorias, e talvez\n",
        "um dos resultados mais interessantes a correlação entre o preço médio\n",
        "e o valor das mercadorias.\n",
        "\n",
        "Meu objetivo é plotar $\\boldsymbol{p}=\\lambda\\boldsymbol{v}$, então\n",
        "precisamos calcular diretamente preço médio das mercadorias ao longo\n",
        "de toda simulação, e o MELTS $\\lambda$. Para calcular $\\lambda$,\n",
        "precisamos calcular a quantidade média de dinheiro trocado em um dado\n",
        "intervalo de tempo e a quantidade média de mercadorias que é trocada\n",
        "também em um dado intervalo de tempo. Deixo abaixo o modelo implementando\n",
        "na medida do possível tudo discutido até então."
      ],
      "metadata": {
        "id": "zRxnVvwccNjV"
      }
    },
    {
      "cell_type": "markdown",
      "source": [],
      "metadata": {
        "id": "CGktTyWWb9zj"
      }
    },
    {
      "cell_type": "code",
      "source": [
        "def P1(E,A,l,N):\n",
        "  '''Produção'''\n",
        "  for i in range(N): #Percorrir i agentes\n",
        "    j = A[i]          #Mercadoria que o agente ta produzindo\n",
        "    E[i][j]+=l[j]\n",
        "  return\n"
      ],
      "metadata": {
        "id": "cuUH9D2gg7im"
      },
      "execution_count": null,
      "outputs": []
    },
    {
      "cell_type": "code",
      "source": [
        "def C1(c,D,N,L,E):\n",
        "  '''Consumo'''\n",
        "  for i in range(N):    #Para todo agente i\n",
        "    for j in range(L):  #E mercadoria j\n",
        "      D[i][j]+=c[j]     #Aumentamos o déficit\n",
        "      consumo = D[i][j] if (D[i][j]<E[i][j]) else E[i][j]\n",
        "  return\n"
      ],
      "metadata": {
        "id": "zIazB6pbhL6z"
      },
      "execution_count": null,
      "outputs": []
    },
    {
      "cell_type": "code",
      "source": [
        "def O1(m):\n",
        "  '''Preço'''\n",
        "  preco = random.random()*m\n",
        "  return preco"
      ],
      "metadata": {
        "id": "uydpRbO9i38w"
      },
      "execution_count": null,
      "outputs": []
    },
    {
      "cell_type": "code",
      "source": [
        "def M1(L,E,D,m):\n",
        "  '''Mercado'''\n",
        "  #Precisamos checar para cada mercadoria se há compradores e vendedores\n",
        "  Nres=[] #Mercadorias ainda não resolvidas\n",
        "  for x in range(L):\n",
        "I I"
      ],
      "metadata": {
        "id": "AguXpdsMjHmV"
      },
      "execution_count": null,
      "outputs": []
    },
    {
      "cell_type": "code",
      "execution_count": null,
      "metadata": {
        "id": "qwtUf3ZaacqY"
      },
      "outputs": [],
      "source": [
        "def R1(N,L,M,R):\n",
        "  '''Simulação'''\n",
        "  #Vetores e matrizes\n",
        "  #Individual\n",
        "  E=np.zeros((N,L))                           #Mercadorias em posse de cada agente, cada linha é um vetor ei\n",
        "  A=np.zeros(N,dtype=int)                     #Vetor com a mercadoria sendo produzida pelo agente i\n",
        "  D=np.zeros((N,L)) #Matriz com o deficit de consumo de cada gente de cada mercadoria, cada linha é uma matriz di\n",
        "  m=np.full(N, M/N)                                 # Dinheiro de cada agente\n",
        "\n",
        "  lmin= 1/R              #Valor mínimo possível de consumo\n",
        "  #GLobal\n",
        "  l=np.random.random(L)*(1-lmin)+lmin # Incremente a cada passo na produção de cada mercadoria\n",
        "  c=np.random.random(L)   # Aumento de desejo a cada passo de cada mercadoria\n",
        "  F=np.sum(c/l)          # Calculando o fator de reescala\n",
        "  c=c/F                  # Fazendo\n",
        "  return N,L,E,A,D,m,l,c"
      ]
    },
    {
      "cell_type": "code",
      "source": [
        "import numpy  as np\n",
        "import random\n",
        "N = 10      #Númerode trabalhadores\n",
        "L = 2       #Quantidad de mercadorias\n",
        "M = 100     #Moedas na simulação\n",
        "R = 10      #Tempo máximo possível de consumo\n",
        "C = 1       #Parâmetro de troca\n",
        "p = 10      #Duração da simulação\n",
        "\n",
        "\n",
        "N,L,E,A,D,m,l,c = R1(N,L,M,R,C)\n",
        "for x in range(p):\n",
        "  P1(E,A,l,N)\n",
        "  C1(c,D,N,L,E)\n",
        "  M1(L)"
      ],
      "metadata": {
        "id": "uQZE8rgVcOzp"
      },
      "execution_count": null,
      "outputs": []
    },
    {
      "cell_type": "code",
      "source": [
        "a=1;A=2; print(a,A)"
      ],
      "metadata": {
        "colab": {
          "base_uri": "https://localhost:8080/"
        },
        "id": "fZaCM7fheXQW",
        "outputId": "2cae8133-732d-4cec-fa31-c3d8ae163687"
      },
      "execution_count": null,
      "outputs": [
        {
          "output_type": "stream",
          "name": "stdout",
          "text": [
            "1 2\n"
          ]
        }
      ]
    },
    {
      "cell_type": "code",
      "source": [
        "c"
      ],
      "metadata": {
        "id": "Rkz3Iu0beph_",
        "colab": {
          "base_uri": "https://localhost:8080/"
        },
        "outputId": "b9445add-c197-4687-b7d3-6051ce5a41d4"
      },
      "execution_count": null,
      "outputs": [
        {
          "output_type": "execute_result",
          "data": {
            "text/plain": [
              "array([0.3347249 , 0.00573828])"
            ]
          },
          "metadata": {},
          "execution_count": 15
        }
      ]
    },
    {
      "cell_type": "code",
      "source": [
        "sum(c/l)"
      ],
      "metadata": {
        "id": "1-dL2EB_nSky",
        "outputId": "5e7fe010-3372-40ba-ca87-c0f43d271e42",
        "colab": {
          "base_uri": "https://localhost:8080/"
        }
      },
      "execution_count": null,
      "outputs": [
        {
          "output_type": "execute_result",
          "data": {
            "text/plain": [
              "np.float64(1.0)"
            ]
          },
          "metadata": {},
          "execution_count": 16
        }
      ]
    },
    {
      "cell_type": "code",
      "source": [],
      "metadata": {
        "id": "ZEk4k7LRnXKl"
      },
      "execution_count": null,
      "outputs": []
    }
  ]
}