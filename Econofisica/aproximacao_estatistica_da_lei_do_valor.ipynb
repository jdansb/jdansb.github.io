{
  "nbformat": 4,
  "nbformat_minor": 0,
  "metadata": {
    "colab": {
      "provenance": [],
      "authorship_tag": "ABX9TyPvvln7IipbRXFl0DUuNyqM",
      "include_colab_link": true
    },
    "kernelspec": {
      "name": "python3",
      "display_name": "Python 3"
    },
    "language_info": {
      "name": "python"
    }
  },
  "cells": [
    {
      "cell_type": "markdown",
      "metadata": {
        "id": "view-in-github",
        "colab_type": "text"
      },
      "source": [
        "<a href=\"https://colab.research.google.com/github/jdansb/jdansb.github.io/blob/main/Econofisica/aproximacao_estatistica_da_lei_do_valor.ipynb\" target=\"_parent\"><img src=\"https://colab.research.google.com/assets/colab-badge.svg\" alt=\"Open In Colab\"/></a>"
      ]
    },
    {
      "cell_type": "markdown",
      "source": [
        "Baseado no livro Classical Econophysics do Paul Cockshott (e outros), quero discutir algumas questões, especificamente o capítulo 9 chamado, em uma traduçaõ livre: “uma aproximação estatística da lei do valor”. Primeiro precisamos ter claramente que há uma distinção entre valor e preço. Nas palavras do Paul Cockshott:"
      ],
      "metadata": {
        "id": "wgZ5B_JHJE30"
      }
    },
    {
      "cell_type": "code",
      "execution_count": 63,
      "metadata": {
        "id": "12YZXBMMsPIi"
      },
      "outputs": [],
      "source": [
        "import numpy  as np\n",
        "import random\n",
        "\n",
        "#Parâmetros\n",
        "N = 10      #Númerode trabalhadores\n",
        "L = 2       #Quantidad de mercadorias\n",
        "M = N*10    #Quantidade total de dinheiro\n",
        "passos = 13 #Qquantidade de passos da simulação\n",
        "\n",
        "#Vetores e matrizes\n",
        "E=np.zeros((N,L))                           #Mercadorias em posse de cada agente, cada linha é um vetor ei\n",
        "A=[0 for x in range(N)]                     #Vetor com a mercadoria sendo produzida pelo agente i\n",
        "I=[random.randint(1,10) for x in range(L)]  #Quantos passos são necessarios para produzir cada mercadoria\n",
        "c=[random.randint(1,10) for x in range(L)] # Vetor de desejo de consumo\n",
        "D=np.zeros((N,L)) #Matriz com o deficit de consumo de cada gente de cada mercadoria, cada linha é uma matriz di\n"
      ]
    },
    {
      "cell_type": "code",
      "source": [
        "def P1(E,A,I,N):\n",
        "  '''Produção'''\n",
        "  for i in range(N): #Percorrir i agentes\n",
        "    j = A[i]          #Mercadoria que o agente ta produzindo\n",
        "    E[i][j]+=1/I[j]\n",
        "  return\n"
      ],
      "metadata": {
        "id": "UA0ALObVMWgT"
      },
      "execution_count": 66,
      "outputs": []
    },
    {
      "cell_type": "code",
      "source": [
        "def C1(c,D,N,L):\n",
        "  '''Consumo'''\n",
        "  for i in range(N):    #Para todo agente i\n",
        "    for j in range(L):  #E mercadoria j\n",
        "      D[i][j]+=1/c[j]        #Aumentamos o déficit\n",
        "  return\n"
      ],
      "metadata": {
        "id": "Uhj-iTA0W2gt"
      },
      "execution_count": 67,
      "outputs": []
    },
    {
      "cell_type": "code",
      "source": [
        "for x in range(passos):\n",
        "  P1(E,A,I,N)\n",
        "  C1(c,D,N,L)"
      ],
      "metadata": {
        "id": "4HsIdP5cRwXE"
      },
      "execution_count": 68,
      "outputs": []
    },
    {
      "cell_type": "code",
      "source": [],
      "metadata": {
        "id": "dViyiZiYULw_"
      },
      "execution_count": null,
      "outputs": []
    }
  ]
}