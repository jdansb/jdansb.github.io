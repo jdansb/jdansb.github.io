{
  "nbformat": 4,
  "nbformat_minor": 0,
  "metadata": {
    "colab": {
      "provenance": [],
      "authorship_tag": "ABX9TyNgJcKdDh/OIqIsIZxGvn+c",
      "include_colab_link": true
    },
    "kernelspec": {
      "name": "python3",
      "display_name": "Python 3"
    },
    "language_info": {
      "name": "python"
    }
  },
  "cells": [
    {
      "cell_type": "markdown",
      "metadata": {
        "id": "view-in-github",
        "colab_type": "text"
      },
      "source": [
        "<a href=\"https://colab.research.google.com/github/jdansb/jdansb.github.io/blob/main/Econofisica/aproximacao_estatistica_da_lei_do_valor.ipynb\" target=\"_parent\"><img src=\"https://colab.research.google.com/assets/colab-badge.svg\" alt=\"Open In Colab\"/></a>"
      ]
    },
    {
      "cell_type": "code",
      "execution_count": 1,
      "metadata": {
        "id": "12YZXBMMsPIi",
        "colab": {
          "base_uri": "https://localhost:8080/",
          "height": 176
        },
        "outputId": "85a57f0f-545e-4a6d-ae31-8a8a77809e6c"
      },
      "outputs": [
        {
          "output_type": "error",
          "ename": "TypeError",
          "evalue": "'list' object cannot be interpreted as an integer",
          "traceback": [
            "\u001b[0;31m---------------------------------------------------------------------------\u001b[0m",
            "\u001b[0;31mTypeError\u001b[0m                                 Traceback (most recent call last)",
            "\u001b[0;32m/tmp/ipython-input-1281212236.py\u001b[0m in \u001b[0;36m<cell line: 0>\u001b[0;34m()\u001b[0m\n\u001b[1;32m     14\u001b[0m \u001b[0mm\u001b[0m\u001b[0;34m=\u001b[0m\u001b[0mN\u001b[0m\u001b[0;34m*\u001b[0m\u001b[0;34m[\u001b[0m\u001b[0mM\u001b[0m\u001b[0;34m/\u001b[0m\u001b[0mN\u001b[0m\u001b[0;34m]\u001b[0m                                 \u001b[0;31m# Dinheiro de cada agente\u001b[0m\u001b[0;34m\u001b[0m\u001b[0;34m\u001b[0m\u001b[0m\n\u001b[1;32m     15\u001b[0m \u001b[0mL\u001b[0m\u001b[0;34m=\u001b[0m\u001b[0;34m[\u001b[0m\u001b[0mrandom\u001b[0m\u001b[0;34m.\u001b[0m\u001b[0mrandint\u001b[0m\u001b[0;34m(\u001b[0m\u001b[0;36m1\u001b[0m\u001b[0;34m,\u001b[0m\u001b[0;36m10\u001b[0m\u001b[0;34m)\u001b[0m \u001b[0;32mfor\u001b[0m \u001b[0mx\u001b[0m \u001b[0;32min\u001b[0m \u001b[0mrange\u001b[0m\u001b[0;34m(\u001b[0m\u001b[0mL\u001b[0m\u001b[0;34m)\u001b[0m\u001b[0;34m]\u001b[0m  \u001b[0;31m#Incremente a cada passo na produção de cada mercadoria\u001b[0m\u001b[0;34m\u001b[0m\u001b[0;34m\u001b[0m\u001b[0m\n\u001b[0;32m---> 16\u001b[0;31m \u001b[0mC\u001b[0m\u001b[0;34m=\u001b[0m\u001b[0;34m[\u001b[0m\u001b[0mrandom\u001b[0m\u001b[0;34m.\u001b[0m\u001b[0mrandint\u001b[0m\u001b[0;34m(\u001b[0m\u001b[0;36m1\u001b[0m\u001b[0;34m,\u001b[0m\u001b[0;36m10\u001b[0m\u001b[0;34m)\u001b[0m \u001b[0;32mfor\u001b[0m \u001b[0mx\u001b[0m \u001b[0;32min\u001b[0m \u001b[0mrange\u001b[0m\u001b[0;34m(\u001b[0m\u001b[0mL\u001b[0m\u001b[0;34m)\u001b[0m\u001b[0;34m]\u001b[0m \u001b[0;31m# Aumento de desejo a cada passo de cada mercadoria\u001b[0m\u001b[0;34m\u001b[0m\u001b[0;34m\u001b[0m\u001b[0m\n\u001b[0m",
            "\u001b[0;31mTypeError\u001b[0m: 'list' object cannot be interpreted as an integer"
          ]
        }
      ],
      "source": [
        "import numpy  as np\n",
        "import random\n",
        "\n",
        "#Parâmetros\n",
        "N = 10      #Númerode trabalhadores\n",
        "L = 2       #Quantidad de mercadorias\n",
        "M = N*10    #Quantidade total de dinheiro\n",
        "passos = 13 #Qquantidade de passos da simulação\n",
        "\n",
        "#Vetores e matrizes\n",
        "E=np.zeros((N,L))                           #Mercadorias em posse de cada agente, cada linha é um vetor ei\n",
        "A=np.zeros(N)                     #Vetor com a mercadoria sendo produzida pelo agente i\n",
        "D=np.zeros((N,L)) #Matriz com o deficit de consumo de cada gente de cada mercadoria, cada linha é uma matriz di\n",
        "m=np.full(N, M/N)                                 # Dinheiro de cada agente\n",
        "\n",
        "l=np.random.random(L)  # Incremente a cada passo na produção de cada mercadoria\n",
        "c=np.random.random(L)  # Aumento de desejo a cada passo de cada mercadoria\n",
        "F=np.sum(l/c)          # Calculando o fator de reescala\n",
        "c=c/F                  # Fazendo"
      ]
    },
    {
      "cell_type": "code",
      "metadata": {
        "colab": {
          "base_uri": "https://localhost:8080/"
        },
        "id": "f43a30c7",
        "outputId": "442f8534-35bd-442c-c0a0-2a56e6a68457"
      },
      "source": [
        "np.random.random(10)"
      ],
      "execution_count": 4,
      "outputs": [
        {
          "output_type": "execute_result",
          "data": {
            "text/plain": [
              "array([0.65710757, 0.09913212, 0.46062022, 0.10611619, 0.03651156,\n",
              "       0.94824741, 0.26909141, 0.07529934, 0.89440874, 0.70977155])"
            ]
          },
          "metadata": {},
          "execution_count": 4
        }
      ]
    },
    {
      "cell_type": "code",
      "source": [],
      "metadata": {
        "id": "M69MVaMnZc1f"
      },
      "execution_count": null,
      "outputs": []
    }
  ]
}