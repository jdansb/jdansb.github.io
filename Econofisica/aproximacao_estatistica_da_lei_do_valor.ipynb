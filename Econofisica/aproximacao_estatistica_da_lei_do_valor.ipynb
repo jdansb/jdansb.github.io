{
  "nbformat": 4,
  "nbformat_minor": 0,
  "metadata": {
    "colab": {
      "provenance": [],
      "name": "aproximacao_estatistica_da_lei_do_valor.ipynb",
      "authorship_tag": "ABX9TyNHYB0DjJRf7TPHguzxjb6W",
      "include_colab_link": true
    },
    "kernelspec": {
      "name": "python3",
      "display_name": "Python 3"
    },
    "language_info": {
      "name": "python"
    }
  },
  "cells": [
    {
      "cell_type": "markdown",
      "metadata": {
        "id": "view-in-github",
        "colab_type": "text"
      },
      "source": [
        "<a href=\"https://colab.research.google.com/github/jdansb/jdansb.github.io/blob/main/Econofisica/aproximacao_estatistica_da_lei_do_valor.ipynb\" target=\"_parent\"><img src=\"https://colab.research.google.com/assets/colab-badge.svg\" alt=\"Open In Colab\"/></a>"
      ]
    },
    {
      "cell_type": "markdown",
      "source": [
        "Baseado no livro Classical Econophysics do Paul Cockshott (e outros), quero discutir algumas questões, especificamente o capítulo 9 chamado, em uma traduçaõ livre: “uma aproximação estatística da lei do valor”. Primeiro precisamos ter claramente que há uma distinção entre valor e preço. Nas palavras do Paul Cockshott:"
      ],
      "metadata": {
        "id": "2HPfBeGpcM7m"
      }
    },
    {
      "cell_type": "code",
      "execution_count": 8,
      "metadata": {
        "id": "qwtUf3ZaacqY"
      },
      "outputs": [],
      "source": [
        "import numpy  as np\n",
        "import random\n",
        "\n",
        "#Parâmetros\n",
        "N = 10      #Númerode trabalhadores\n",
        "L = 2       #Quantidad de mercadorias\n",
        "M = N*10    #Quantidade total de dinheiro\n",
        "passos = 13 #Qquantidade de passos da simulação\n",
        "\n",
        "#Vetores e matrizes\n",
        "E=np.zeros((N,L))                           #Mercadorias em posse de cada agente, cada linha é um vetor ei\n",
        "A=np.zeros(N)                     #Vetor com a mercadoria sendo produzida pelo agente i\n",
        "D=np.zeros((N,L)) #Matriz com o deficit de consumo de cada gente de cada mercadoria, cada linha é uma matriz di\n",
        "m=np.full(N, M/N)                                 # Dinheiro de cada agente\n",
        "\n",
        "l=np.random.random(L)  # Incremente a cada passo na produção de cada mercadoria\n",
        "c=np.random.random(L)  # Aumento de desejo a cada passo de cada mercadoria\n",
        "F=np.sum(c/l)          # Calculando o fator de reescala\n",
        "c=c/F                  # Fazendo"
      ]
    },
    {
      "cell_type": "code",
      "source": [
        "l"
      ],
      "metadata": {
        "colab": {
          "base_uri": "https://localhost:8080/"
        },
        "id": "uQZE8rgVcOzp",
        "outputId": "598bd844-eb4e-4588-caa9-47863166a34d"
      },
      "execution_count": 10,
      "outputs": [
        {
          "output_type": "execute_result",
          "data": {
            "text/plain": [
              "array([0.50784771, 0.01667951])"
            ]
          },
          "metadata": {},
          "execution_count": 10
        }
      ]
    },
    {
      "cell_type": "code",
      "source": [
        "c"
      ],
      "metadata": {
        "colab": {
          "base_uri": "https://localhost:8080/"
        },
        "id": "fZaCM7fheXQW",
        "outputId": "c43debe6-0f6b-4f1e-e103-79dc2595b29b"
      },
      "execution_count": 11,
      "outputs": [
        {
          "output_type": "execute_result",
          "data": {
            "text/plain": [
              "array([0.08768103, 0.01379976])"
            ]
          },
          "metadata": {},
          "execution_count": 11
        }
      ]
    },
    {
      "cell_type": "code",
      "source": [],
      "metadata": {
        "id": "Rkz3Iu0beph_"
      },
      "execution_count": null,
      "outputs": []
    }
  ]
}