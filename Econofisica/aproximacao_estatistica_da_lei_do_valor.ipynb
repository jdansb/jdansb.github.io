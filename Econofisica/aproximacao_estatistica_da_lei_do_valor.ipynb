{
  "nbformat": 4,
  "nbformat_minor": 0,
  "metadata": {
    "colab": {
      "provenance": [],
      "name": "aproximacao_estatistica_da_lei_do_valor.ipynb",
      "authorship_tag": "ABX9TyNKj+r/cv/Wm08PIswWiyz7",
      "include_colab_link": true
    },
    "kernelspec": {
      "name": "python3",
      "display_name": "Python 3"
    },
    "language_info": {
      "name": "python"
    }
  },
  "cells": [
    {
      "cell_type": "markdown",
      "metadata": {
        "id": "view-in-github",
        "colab_type": "text"
      },
      "source": [
        "<a href=\"https://colab.research.google.com/github/jdansb/jdansb.github.io/blob/main/Econofisica/aproximacao_estatistica_da_lei_do_valor.ipynb\" target=\"_parent\"><img src=\"https://colab.research.google.com/assets/colab-badge.svg\" alt=\"Open In Colab\"/></a>"
      ]
    },
    {
      "cell_type": "markdown",
      "source": [
        "# Aproximação estatística da lei do valor\n",
        "Baseado no livro Classical Econophysics do Paul Cockshott (e outros), quero discutir algumas questões, especificamente o capítulo 9 chamado, em uma traduçaõ livre: “uma aproximação estatística da lei do valor”. Primeiro precisamos ter claramente que há uma distinção entre valor e preço. Nas palavras do Paul Cockshott:\n",
        "* **Valor**: é determinado pelas condições técnicas de produção\n",
        "prevalecentes e medido pelo tempo de trabalho socialmente necessário\n",
        "para produzi-la.\n",
        "* **Preço**: que é a quantidade de dinheiro que a mercadoria rende\n",
        "no mercado.\n",
        "\n",
        "Em uma simplificação teórica do capitalismo (traduzida livremente como \"economia\n",
        "de mercadoria simples\") o preços tendem aos valores, e é isso que queremos demonstrar."
      ],
      "metadata": {
        "id": "2HPfBeGpcM7m"
      }
    },
    {
      "cell_type": "markdown",
      "source": [
        "## O Modelo\n",
        "\n",
        "São características essenciais do modelo:\n",
        "\n",
        "* É composto por $N$ trabalhadores (identificados por um inteiro $i$ entre 1 e\n",
        "$N$).\n",
        "* Existem $L$ mercadorias (identificadas por um inteiro $j$ entre $1$ e\n",
        "$L$).\n",
        "* Possui uma quantidade total e constante de dinheiro $M=\\sum_{i}^{N}m_{i}$\n",
        "* Cada trabalhador produz uma mercadoria de cada vez.\n",
        "* Cada mercadoria é simples: não exige outra mercadoria para ser produzida\n",
        "e pode ser produzia por um único trabalhador, assim como todos trabalhadores\n",
        "produzem com a mesma eficiência uma mesma mercadoria."
      ],
      "metadata": {
        "id": "f5vbO0XLaBCu"
      }
    },
    {
      "cell_type": "markdown",
      "source": [
        "### Regra de produção $P_{1}$:\n",
        "\n",
        "* No começo da simulação, cada agente $i$ tem um vetor $\\boldsymbol{e}_{i}=\\boldsymbol{0}$ que indica a quantidade de mercadorias o agente $i$ possui.\n",
        "* A mercadoria $j$ sendo produzida pelo ator $i$ é dado por $A\\left(i\\right)=j$,\n",
        "podemos pensar que existe um vetor $\\boldsymbol{A}$ nos dá o que\n",
        "cada agente $i$ está produzindo no momento.\n",
        "*  Cada mercadoria precisa de $l_{j}$ passos pra ser produzida. Ou\n",
        "seja, a cada passo ela produz $L=1/l_{j}$ unidade da mercadoria. Vamos definir\n",
        "um vetor $\\boldsymbol{l}=\\left(1/l_{1},\\dots,1/l_{L}\\right)=\\left(L_{1},\\dots,L_{L}\\right)$.\n",
        "\n",
        "Então o ator $i$ gera uma unidade da mercadoria $A\\left(i\\right)$\n",
        "a cada $l_{A\\left(i\\right)}$ passos, e como conssequência o elemento\n",
        "do vetor $e_{i}\\left[A_{i}\\left(i\\right)\\right]$ é incrementado em\n",
        "uma unidade."
      ],
      "metadata": {
        "id": "LXoYIFHivr6w"
      }
    },
    {
      "cell_type": "markdown",
      "source": [
        "### Regra de consumo $C_{1}$\n",
        "\n",
        "* Todos os agentes tem o mesmo desejo de consumo dado por um vetor\n",
        "global $\\boldsymbol{c}=\\left(1/c_{1},\\dots,1/c_{L}\\right)=\\left(C_{1},\\dots,C_{L}\\right)$.\n",
        "* Cada agente $i$ tem um vetor de deficit de consumo inicializado\n",
        "como $\\boldsymbol{d}_{i}=0$.\n",
        "* De modo anláloga a produção, a cada $c_{j}$ passos é incrementado o elemento\n",
        "$\\boldsymbol{d}_{i}\\left[j\\right]$ em $1$, ou seja a cada passo seu\n",
        "desejo aumenta em $C_{j}=1/c_{j}$ unidade.\n",
        "\n",
        "Então a cada passo o ator $i$ consome uma quantidade  mercadorias dada pelo vetor $\\boldsymbol{o}_{i}=\\text{min}\\left(\\boldsymbol{e}_{i},\\boldsymbol{d}_{i}\\right)$.\n",
        "Ou seja, por exemplo, pra mercadoria $j=1$ se o agente não tem nenhuma\n",
        "unidade dela $e_{i}\\left[1\\right]=0$ e ele não pode consumir. Ou\n",
        "se não tem desejo $d_{i}\\left[1\\right]=0$, também não irá consumir.\n",
        "Se em ambos os casos o valor não é 0, caso ele tenha mais bens do\n",
        "que deseje consumir $e_{i}\\left[1\\right]>d_{i}\\left[1\\right]$, então\n",
        "ele vai consumir só o que deseja $d_{i}\\left[1\\right]$. Se ele ter\n",
        "menos bens do que deseja consumir $e_{i}\\left[1\\right]<d_{i}\\left[1\\right]$\n",
        "vai consumir tudo que tem $e_{i}\\left[1\\right]$. De toda forma o\n",
        "que ele vai consumir vai ser dado pelo menor valor $o_{i}\\left[1\\right]=\\text{min}\\left(e_{i}\\left[1\\right],d_{i}\\left[1\\right]\\right)$.\n",
        "\n",
        " Evidentemente essa quantidade precisa ser descontada do deficit e\n",
        "das mercadorias em posse, logo atualizamos os vetores $\\boldsymbol{e}'_{i}=\\boldsymbol{e}_{i}-\\boldsymbol{o}_{i}$\n",
        "e $\\boldsymbol{d}'_{i}=\\boldsymbol{d}_{i}-\\boldsymbol{o}_{i}$.\n",
        "\n",
        "\n",
        "**Coeficiente de reprodução** $\\eta=\\sum\\frac{l_{j}}{c_{j}}=\\sum\\frac{C_{j}}{L_{j}}$:\n",
        "* $\\eta=1$ significa que a produção é igual o consumo: A simulação\n",
        "vai adotar essa condição.\n",
        "* $\\eta>1$ significa que a economia esta permanentemente em déficit.\n",
        "* $\\eta < 1$ a economia tem permanentemente uma produção extra.\n",
        "\n",
        "Como sob nenhuma hipótese temos $c_{j}<0$ ou $l_{j}< 0$, para que\n",
        "evitar que $\\eta>1$ então nehum termo  pode ser $\\frac{l_{j}}{c_{j}}>1$.\n",
        "Se tivermos mais de uma mercadoria, então precisamos ser\n",
        "ainda mais restritivos e exigir que $\\frac{l_{j}}{c_{j}}< 1$. Ou seja, deve levar menos passos pra produzir um produto, do que para desejá-lo. Isto é uma condição necessária para obtermos estabilidade, uma vez que cada agente produz uma única mercadoria por vez, mas consome todas.\n",
        "\n",
        "Se temos então duas mercadorias, dois atores e cada um produz\n",
        "uma mercadoria com os valores $l_{j}=1$ e $c_{j}=2$, então $\\eta=0.5+0.5=1$\n",
        "e a cada dois passos cada agente deseja uma mercadoria de cada tipo\n",
        "e produziu 2 de cada tipo, dividndo essas duas mercadorias entre os\n",
        "dois agentes, então todas mercadorias são consumidas e os desejos\n",
        "satisfeitos a cada dois passos."
      ],
      "metadata": {
        "id": "AsErYO4Uv1r5"
      }
    },
    {
      "cell_type": "markdown",
      "source": [
        "\n",
        "\n",
        "### Regra do preço $O_{1}$\n",
        "\n",
        "* O preço da mercadoria $j$ de acordo com o ator $i$ é um valor\n",
        "$p_{j}^{i}$ que é obtido aleatoriamente no intervalo $\\left[0,m_{i}\\right]$.\n"
      ],
      "metadata": {
        "id": "ExE4MaNQwCH_"
      }
    },
    {
      "cell_type": "markdown",
      "source": [
        "\n",
        "### Regra do mercado $M_{1}$:\n",
        "\n",
        "O mercado de determinada mercadoria é considerado \"resolvido\" quando\n",
        "não há mais compradores ou vendedores para uma determinada mercadoria,\n",
        "ou colocando de outra forma, não estar resolvido implica que há compradores\n",
        "e vendedores. Então começamos com um conjunto de $C$ de mercadorias\n",
        "que não foram resolvidas no mercado:\n",
        "\n",
        "1. Selecionamos uma mercadoria $j$ aleatoriamente do conjunto $C$;\n",
        "\n",
        "2. Selecionamos um agente vendedor $s$ aleatoriamente do conjunto\n",
        "de vendedores potenciais: Isto é, agentes que possuem mais mercadorias\n",
        "do que desejam consumir, $e_{i}\\left[j\\right]>d_{i}\\left[j\\right]$.\n",
        "\n",
        "3. Selecionamos um agente comprador $b$ aleatoriamente do conjunto\n",
        "de compradores potenciais: Isto é, agentes que possuem menos mercadorias\n",
        "do que desejam consumir, $e_{i}\\left[j\\right]<d_{i}\\left[j\\right]$.\n",
        "\n",
        "4. Se não havia potencial comprador ou vendedor, removemos a mercadoria\n",
        "$j$ de $C$. Se havia, chamamos a regra $\\boldsymbol{E}_{1}$ de\n",
        "troca.\n",
        "\n",
        "5. Repetimos os passos anteriores até que todas as mercadorias estejam\n",
        "resolvidas."
      ],
      "metadata": {
        "id": "2T5tknTVv8DG"
      }
    },
    {
      "cell_type": "markdown",
      "source": [
        "### Regra da troca $E_{1}$\n",
        "\n",
        "A regra anterior encontra compradores e vendedores pra fazer a troca condicional definida por essa regra.\n",
        "\n",
        "* Uma vez que temos comprador $b$ e vendedor $s$ que estimam os\n",
        "preços $p_{j}^{b}$ e $p_{j}^{s}$ para a mercadoria $j$, então retiramos\n",
        "um preço pra mercadoria do intervalo discreto $\\left[p_{j}^{b},p_{j}^{s}\\right]$:\n",
        "\n",
        "* Se o comprador tem dinheiro suficiente , a troca é realizada: o\n",
        "comprador perde dinheiro e ganha uma unidade de mercadoria, e o vendedor\n",
        "ganha dinheiro e perde uma unidade de mercadoria."
      ],
      "metadata": {
        "id": "iS4QK1fiwTvc"
      }
    },
    {
      "cell_type": "markdown",
      "source": [
        "### Regra do setor $S_{1}$\n",
        "\n",
        "* Vamos definir o conjunto $A_{j}=\\left\\{ i:1\\leq i\\leq N,A\\left(i\\right)=j\\right\\} $ que\n",
        "reúne os agentes $i$ que produzem $j$, isto é os agentes no qual\n",
        "$A\\left(i\\right)=j$\n",
        "* Definimos então o conjunto  $\\boldsymbol{D}=\\left[A_{1},\\dots A_{L}\\right]$ que nos\n",
        "dá como os atores estão distribuídos na produção de mercadorias.\n",
        "\n",
        "\n",
        "Então após uma quantidade fixa de tempo, considerando que estamos no período $n$ cada agente calcula um vetor\n",
        "erro $\\left\\Vert \\boldsymbol{d}_{i}^{n}\\right\\Vert $ e compara com o mesmo vetor calculado em um período anterior $\\left\\Vert \\boldsymbol{d}_{i}^{n-1}\\right\\Vert $. Se o erro aumentou, $\\left\\Vert \\boldsymbol{d}_{i}^{n}\\right\\Vert >\\left\\Vert \\boldsymbol{d}_{i}^{n-1}\\right\\Vert $\n",
        "então ele troca de mercadoria a ser produzida de forma aleatoria."
      ],
      "metadata": {
        "id": "jq82BCy5wmYY"
      }
    },
    {
      "cell_type": "markdown",
      "source": [
        "\n",
        "\n",
        "### Regra de simulação $R_{1}$\n",
        "Todo o ciclo de produção, consumo,\n",
        "troca e realocação na produção segue esta regra. Inicialmente construímos\n",
        "$\\boldsymbol{I}$ e $\\boldsymbol{c}$ de forma que $\\eta=1$ e alocamos\n",
        "$M/N$ entre todos atores. Então:\n",
        "* Aumentamos o tempo da simulação em um passo.\n",
        "* Invocamos a regra $P_{1}$ para cada agente.\n",
        "* Invocamos a regra $C_{1}$ para cada agente.\n",
        "* Invocamos a regra do mercado $M_{1}$.\n",
        "* Invocamos a regra $S_{1}$ para cada agente.\n",
        "* Repetimos.\n",
        "Ou seja:\n",
        "\n",
        "$$ SCE=\\left\\{ R_{1},P_{1},C_{1},O_{1}\\left\\{ M_{1},E_{1}\\right\\} ,S_{1}\\right\\}  $$\n",
        "\n",
        "Os parâmetros, segundo o livro são:\n",
        "* $N$ números de atores.\n",
        "* $L$ número de mercadorias.\n",
        "* $M$ quantidade de moedas na simulação.\n",
        "* $R$ o tempo máximo possível de consumo, usado pra restringir a construção dos vetores $\\boldsymbol{l}$ e $\\boldsymbol{c}$. Vale destacar que os vetors $\\boldsymbol{l}$ e $\\boldsymbol{c}$ contém o inverso do\n",
        "tempo, ou seja, o tempo máximo de consumo, será o valor máximo possível.\n",
        "para $c_{i}$ mas então o mínimo possível para $C_{i}$ que\n",
        "são as componentes do vetor $\\boldsymbol{c}$.\n",
        "* $C$ é uma constante múltipla do $R$ e é um parâmetro que define a duração do período entre a aplicação da regra $S_1$ de troca setores."
      ],
      "metadata": {
        "id": "f1UxNkaxf9E1"
      }
    },
    {
      "cell_type": "markdown",
      "source": [
        "## Divisão do trabalho\n",
        "\n",
        "**Definição 1**: Uma divisão do trabalho é eficiente quando para\n",
        "cada mercadoria o número de mercadorias sendo produzidas é igual a demanda.\n",
        "\n",
        "Então a quantidade total de mercadorias $j$ que são demandadas por\n",
        "passo é $NC_{j}$. Se temos uma fração $\\alpha N$ de agentes produzindo\n",
        "mercadoria $j$, a cada unidade de tempo é produzido $a_{j}NL_{j}$.\n",
        "Para obtermos uma divisão eficiente do trabalho:\n",
        "\n",
        "\\begin{equation}\n",
        "a_{j}NL_{j}=NC_{j}\\quad\\rightarrow a_{j}=\\frac{C_{j}}{L_{j}}=\\frac{l_{j}}{c_{j}}\n",
        "\\end{equation}\n",
        "\n",
        "Ou seja, $a_{j}$ é uma eficiente divisão do trabalho."
      ],
      "metadata": {
        "id": "B9NHVudswR5_"
      }
    },
    {
      "cell_type": "markdown",
      "source": [
        "\n",
        "\n",
        "## Preços objetivos\n",
        "\n",
        "Começamos com duas definições:\n",
        "* O preço médio da mercadoria $j$ é dado por $\\left\\langle p_{j}\\right\\rangle $,\n",
        "e temos o vetor $\\boldsymbol{p}=\\left(\\left\\langle p_{1}\\right\\rangle ,\\dots,\\left\\langle p_{L}\\right\\rangle \\right)$.\n",
        "* Os valores, isto é, a quantidade de tempo embutida na produção das\n",
        "mercadorias são $\\boldsymbol{v}=\\left(l_{1},\\dots,l_{L}\\right)$.\n",
        "\n",
        "Então se o preço gravita em torno do valor, se ele é proporcional\n",
        "ao valor, podemos escrever:\n",
        "\n",
        "\\begin{equation}\n",
        "\\boldsymbol{p}\\approx  \\lambda\\boldsymbol{v}\n",
        "\\end{equation}\n",
        "\n",
        "\n",
        "\n",
        "Onde $\\lambda$ tem unidade de 'moedas por unidade de de tempo de trabalho'.\n",
        "Como nossa economia é simples, podemos definir então a Expressão Monetária do Tempo-Trabalho (MELT\n",
        "em inglês), como a razão entre a medida da quantidade total de mercadorias trocadas em um intervalo de tempo medida  a preços correntes e o trabalho produtivo gasto na produção destas mercadorias.Ou seja, o MELT é simplesmente:\n",
        "\n",
        "\\begin{equation}\n",
        "\\lambda = \\frac{\\gamma M}{\\sum l_{i}v_{i}}\n",
        "\\end{equation}\n",
        "\n",
        "\n",
        "\n",
        "Analisando:\n",
        "* O denominador é trabalho despendido nas mercadorias que são trocadas em um determinado tempo'. Onde\n",
        "$v_{i}$ é a velocidade média de troca de uma mercadoria $j$. Então\n",
        "temos um somatório onde cada termo corresponde ao o trabalho envolvido nas trocas de cada tipo de mercadoria. Por exemplo se olharmos pra mercadoria\n",
        "$j=1$, e termos que ela é trocada $v_{1}=2$ vezes dentro do intervalo de tempo considerado, e essa mercadoria\n",
        "ter um valor de $l_{1}=2$, isto é, leva 2 passos pra ser feito, então\n",
        "temos que o trabalho despendido trocado via mercadoria $j=1$ dentro do intervalo considerado é $v_{1}l_{1}=2\\cdot2=4$.\n",
        "* O numerador é a quantidade de moedas que é trocado em um determinado intervalo de tempo via troca de mercadorias. Onde $\\gamma$ é simplesmente a proporção\n",
        "do dinheiro que é trocado por unidade de tempo, então $\\gamma M$\n",
        "é a velocidade do dinheiro, ou seja, quanto dinheiro é trocado dentro do intervalo de tempos que estamos considerando.\n",
        "\n",
        "De forma resumida, temos:\n",
        "\n",
        "\\begin{equation}\n",
        "\\lambda=\\frac{\\text{quanto dinheiro é trocado por unidade de tempo}}{\\text{quanto tempo tempo de trabalho é trocado por unidade de tempo}}=\\frac{\\gamma M}{\\sum l_{i}v_{i}}\n",
        "\\end{equation}\n",
        "\n",
        "Evidentemente só nos preocupamos com as mercadorias que são trocadas e não com a produção como um todo, estamos analisando o mercado, é digno de menção que neste modelo as mercadorias só tem um preço no momento da troca, enquanto o valor delas é dado pelas características técnicas de produção de toda sociedade."
      ],
      "metadata": {
        "id": "zRxnVvwccNjV"
      }
    },
    {
      "cell_type": "markdown",
      "source": [
        "## Simulação\n",
        "\n",
        "Abaixo vou compartilhar um código que eu fiz baseado no modelo, a notação pode ser levemente diferente pois eu não escrevi o código no mesmo tempo que escrevi este resumo. Eu\n",
        "não estou trazendo todos os resultados apresentados no livro, pois desejo dar ênfase no MELT. Mas antes alguns comentários precisam ser feitos:\n",
        "\n",
        "- Apesar de que eu busquei respeitar a definição de que $C$ deve ser múltiplo de $R$ não vejo nada que exija isso. Porém concordo com a ideia de que devemos ter $C>R$ para dar tempo de que os agentes produzam e consumam as mercadorias antes de trocarem de setor.\n",
        "- Em nenhum momento é dito se o dinheiro é inteiro ou não. Apenas é mencionado que o intervalo do qual retiramos os preços é discreto, sendo assim, eu optei por utilizar inteiros.\n",
        "- Estou introduzindo um novo parâmetro $G$ que define a duração do período no qual vamos coletar dados. No apêndice é dito que após o sistema atingir o equilíbrio, então executa-se a simulação por mais $G=5000$ passos para coletar os dados que serão utilizados, ou assin entendi.\n",
        "- A regra de trocas pode tornar a execução demasiadamente lenta. Se utilizarmos um dinheiro contínuo ou inteiros que se aproximem disso ($M \\gg N$), a execução pode ficar lenta pois o modelo não avança até que compradores e vendedores entrem em acordo para resolver o mercado. Porém se um comprador tem riqueza próxima a $m_a \\approx 0$, o preço da mercadoria definida pela regra $O_1$ precisa ser próximo de $0$ para que o agente consiga comprar, e tanto menor será a probabilidade disso acontecer quanto maior for a riqueza do vendedor. No apêndice o livro menciona a implementação de um limite na quantidade de vezes que cada agente pode ir no mercado. Não é detalhado se é um limite de tentativas totais ou de tentativas fracassadas.\n",
        "-  Na implementação da regra $S_1$ de mudança de setor, não fica claro como o vetor $\\boldsymbol{d}_{i}^{\\left(n\\right)}$ é construído. Se ele é apenas o vetor $\\boldsymbol{d}_{i}$ no final do período, se é um vetor análogo porém zerado no começo do período e utilizado apenas na implementação desta regra, ou qualquer outra alternativa.\n",
        "- Também na implementaçã oda regra $S_1$ eu suponho que o agente pode aleatoriamente sortear continuar no mesmo setor.\n",
        "- Aumentar o tamanho do sistema $N$ aumenta o custo computacional, mas me parece que aumenta ainda mais com o aumento da quantidade de tipos de mercadorias $L$ no sistema. O próprio livro discute até um máximo de $L=10$ e menciona que acima desta configuração não havia memória disponível no hardware utilizado.\n",
        "- O livro apresenta exatamente a relação linear com a reta passando na origem entre valor e preço, mesmo pra $N=200$ e $L=3$, eu obtive relação linear, mas com a reta não passando na origem.\n",
        "- Não é discutido o que acontece se na aplicação da regra $E_1$, a oferta do vendedor $p_j^{(s)}$ for maior que a do comprador $p_j^{(b)}$, se retiramos ainda um valor do intervalo, ou fazemos $p_j^{(b)}=p_j^{(s)}$.\n",
        "- Na aplicação da regra $O_1$, é permitdo que a mercadoria tenha um preço $p=0$. Mas precisamos que ele tenha um preço pra associar ao valor. Se trabalharmos com contínuo é improvável sortearmos 0, mas com inteiros, não necessariamente."
      ],
      "metadata": {
        "id": "CGktTyWWb9zj"
      }
    },
    {
      "cell_type": "markdown",
      "source": [
        "Um algoritmo possível para a construção dos vetires $l$ e $c$ vetores é o seguinte:\n",
        "Primeiro gerar dois vetores aleatórios $\\boldsymbol{l}=\\left(L_{1},\\cdots,L_{L}\\right)$ e\n",
        "$\\boldsymbol{u}=\\left(u_{1},\\cdots,u_{L}\\right)$, fazemos o somatório\n",
        "$\\sum_{i}^{L}\\frac{u_{j}}{L_{j}}=F$, então se dividimos os dois lados\n",
        "por $A$:\n",
        "\n",
        "\\begin{equation}\n",
        "\\sum_{i}^{L}\\frac{1}{F}\\frac{u_{j}}{L_{j}}=\\frac{F}{F}\\rightarrow\\sum_{i}^{L}\\frac{u_{j}/F}{L_{j}}=1=\\sum_{i}^{L}\\frac{C_{j}}{L_{j}}\n",
        "\\end{equation}\n",
        "\n",
        "Ou seja, os elementos do vetor $\\boldsymbol{c}$ são $C_{j}=\\frac{u_{j}}{F}$,\n",
        "ou ainda $\\boldsymbol{c}=\\frac{\\boldsymbol{u}}{F}$."
      ],
      "metadata": {
        "id": "e-fBbgex5xUL"
      }
    },
    {
      "cell_type": "markdown",
      "source": [
        "Dito tudo isso, eu optei por definir a mão os valores de $l$ e $c$ para que possamos analisar melhor o resultado da simulação. Um exercício que fiz e acredito ser interessante ao leitor, é definir desde o começo a distribuição idela de trabalhadores entre os setores e observar o quão estável é o ritmo da troca de mercadorias desta sociedade em equilíbrio."
      ],
      "metadata": {
        "id": "LDR38uOCCRMj"
      }
    },
    {
      "cell_type": "code",
      "source": [
        "import numpy  as np\n",
        "import random\n",
        "from scipy.stats import pearsonr\n",
        "import matplotlib.pyplot as plt\n",
        "\n",
        "\n",
        "##CONFIGURANDO A CONDIÇÂO INICIAL\n",
        "\n",
        "#Parâmetros\n",
        "N = 100         #Número de trabalhadores\n",
        "L = 3           #Quantidade de mercadorias\n",
        "M = 100*N       #Moedas na simulação\n",
        "R = 20          #Tempo máximo possível de consumo\n",
        "C = 2           #Fator de troca de seção\n",
        "p = 5000       #Duração da simulação\n",
        "G = 5000        #Período de guardar\n",
        "\n",
        "#% R1\n",
        "\n",
        "#Para cálculos\n",
        "Erro = np.full(N,0,dtype=float)                  #Erro de cada agente no ano anterior.\n",
        "E    = np.zeros((N,L))                           #Mercadorias em posse de cada agente, cada linha é um vetor ei\n",
        "A    = np.random.randint(0,L,N)                  #Vetor com a mercadoria sendo produzida pelo agente i\n",
        "D    = np.zeros((N,L))                           #Matriz com o deficit de consumo de cada gente de cada mercadoria, cada linha é uma matriz di\n",
        "m    = np.full(N, int(M/N))                      #Dinheiro de cada agente\n",
        "\n",
        "continuar=True\n",
        "while(continuar):\n",
        "    l=np.random.random(L)                       #Incremente a cada passo na produção de cada mercadoria\n",
        "    c=np.random.random(L)                       #Aumento de desejo a cada passo de cada mercadoria\n",
        "    F=np.sum(c/l)                               #Calculando o fator de reescala\n",
        "    c=c/F                                       #Obtendo o vetor c que respeite o somatório\n",
        "    T=int(C*max(1/c))+1                         #Calculando o período pra troca de setor\n",
        "    continuar = False if(max(1/c)<=R) else True #Vamos verificar se o tempo máximo de consumo é aceitável\n",
        "\n",
        "Consumo  = 1/c                                  #Tempo necessário para consumir\n",
        "Producao = 1/l                                  #Tempo necessário para produzir\n",
        "\n",
        "#%% Definindo l e c manualmente\n",
        "Producao = np.array([2,4,6])\n",
        "Consumo  = np.array([8,16,12])\n",
        "l=1/Producao\n",
        "c=1/Consumo\n",
        "\n",
        "#Distribuindo de forma ideal os trabalhadores\n",
        "#A1=50*[0]\n",
        "#A2=50*[1]\n",
        "#A3=100*[2]\n",
        "#A=A1+A2+A3\n",
        "#A=np.array(A)\n",
        "\n",
        "#%% Vetores utilizados para fazer diferentes medidas\n",
        "\n",
        "trocas =[[] for x in range (L)]\n",
        "Trabalhadores=[0 for x in range (L)]\n",
        "Trabalhadores2=[]\n",
        "#%% SIMULAÇÂO\n",
        "\n",
        "#% P1\n",
        "for passo in range(p):\n",
        "    for i in range(N): #Percorrer i agentes\n",
        "      j = A[i]         #Mercadoria que o agente ta produzindo\n",
        "      E[i][j]+=l[j]    #Aumentamos a produção\n",
        "\n",
        "    #E\n",
        "    #% C1\n",
        "\n",
        "    for i in range(N):    #Para todo agente i\n",
        "      for j in range(L):  #E mercadoria j\n",
        "        D[i][j] +=c[j]    #Aumentamos o déficit\n",
        "        #Calculamos o menor valor\n",
        "        consumo  = int(D[i][j]) if (int(D[i][j]) < int(E[i][j])) else int(E[i][j])\n",
        "        D[i][j] -= consumo  #Diminuimos do déficit\n",
        "        E[i][j] -= consumo  #Diminuimos das mercadorias\n",
        "\n",
        "\n",
        "    #% M1.1\n",
        "\n",
        "    #Precisamos checar para cada mercadoria se há compradores e vendedores\n",
        "    Nres=[]                    #Mercadorias ainda não resolvidas\n",
        "    limites= np.full(N,1000,dtype=float)\n",
        "    for j in range(L):\n",
        "        vendedor  = False;       #Se achamos um vendedor\n",
        "        comprador = False        #Se achamos um comprador\n",
        "        for i in range(N):       #Vamos percorrer todos agentes\n",
        "            if(int(E[i][j])>int(D[i][j]) and limites[i]>0):\n",
        "                vendedor=True #Achamos um vendedor\n",
        "                break\n",
        "        if(vendedor):          #Se tem vendedor:\n",
        "           for i in range(N):  #Vamos procurar um comprador\n",
        "               if(int(D[i][j])>int(E[i][j]) and limites[i]>0):\n",
        "                   comprador=True #Achamos um comprador\n",
        "                   break\n",
        "        if(comprador and vendedor):\n",
        "            Nres.append(j)    #Adicionamos que esta mercadoria não esta resolvida\n",
        "\n",
        "    #% M1.2\n",
        "\n",
        "    while(len(Nres)>0):                   #Vamos resolver todas mercadorias\n",
        "        a = random.randint(0,len(Nres)-1) #vamos selecionar uma mercadoria aleatoriamente\n",
        "        j=Nres[a]                         #Mercadoria selecionada\n",
        "        vendedores =[]                    #Vamos construir uma lista de possíveis vendedores\n",
        "        for i in range(N):\n",
        "            if(int(E[i][j])>int(D[i][j]) and limites[i]>0):          #Se ele tem mais mercadoria do que deseja\n",
        "                vendedores.append(i)\n",
        "        compradores =[]                    #Vamos construir uma lista de possíveis compradores\n",
        "        for i in range(N):\n",
        "            if(int(D[i][j])>int(E[i][j]) and limites[i]>0 ):           #Se ele deseja mais mercadoria do que tem\n",
        "                compradores.append(i)\n",
        "        if (len(compradores)==0 or len(vendedores)==0): #Se não há mais algum\n",
        "           Nres.pop(a)        #Removemos a mercadoria da lista\n",
        "        else:                 #se há, sorteamos um comprador e um vendedor e chamamos E1\n",
        "            a=random.randint(0,len(compradores)-1)\n",
        "            com=compradores[a]\n",
        "            a=random.randint(0,len(vendedores)-1)\n",
        "            ven=vendedores[a]\n",
        "            pcom=random.randint(0,m[com])         #Preço avaliado pelo comprador\n",
        "            pven=random.randint(0,m[ven])         #Preço avaliado pelo vendedor\n",
        "            minimo=min(pcom,pven)                 #Preço mínimo\n",
        "            maximo=max(pcom,pven)                 #preço máixmo\n",
        "            preco= random.randint(minimo,maximo)\n",
        "            if(m[com]>=preco):      #Se o comprador tem dinheiro\n",
        "                m[com]-=preco       #Comprador perder dinheiro\n",
        "                m[ven]+=preco       #Vendedor ganha dinheiro\n",
        "                E[com][j]+=1           #Comprador ganha item\n",
        "                E[ven][j]-=1           #Vendedor perde item\n",
        "                trocas[j].append(preco)\n",
        "\n",
        "            limites[com]-=1\n",
        "            limites[ven]-=1\n",
        "            if(limites[com]==0 or limites[ven]==0):\n",
        "              print(\"ESGOTOU\")\n",
        "\n",
        "    #% S1\n",
        "\n",
        "    if(passo%T==0 ):#Se estamos em um momento adequado, então fazemos a troca de setores\n",
        "        for i in range(N): #Vamos percorrer todos agentes\n",
        "            e = np.linalg.norm(D[i])\n",
        "            if(e>Erro[i]): #Se o erro é maior, vamos trocar de setor\n",
        "                 A[i]=random.randint(0,L-1)\n",
        "            Erro[i]=e\n",
        "        #Calcular a quantida de de traballhador em cada seção\n",
        "        Tra=[0 for x in range(L)]\n",
        "        for x in range(N):\n",
        "            j=A[x]\n",
        "            Trabalhadores[j]+=1\n",
        "            Tra[j]+=1\n",
        "        Trabalhadores2.append(Tra)\n",
        "\n",
        "\n",
        "    #% Verificar a correlação\n",
        "    if((passo+1)%G==0):\n",
        "        print(passo)\n",
        "        bkup=Trabalhadores.copy()\n",
        "        bkup2=trocas.copy()\n",
        "        trocas =[[] for x in range (L)]\n",
        "        Trabalhadores=[0 for x in range (L)]\n"
      ],
      "metadata": {
        "colab": {
          "base_uri": "https://localhost:8080/"
        },
        "id": "ulBWKrOF5R0d",
        "outputId": "9313e286-1a35-4290-809e-ed7df4c093bd"
      },
      "execution_count": 72,
      "outputs": [
        {
          "output_type": "stream",
          "name": "stdout",
          "text": [
            "4999\n"
          ]
        }
      ]
    },
    {
      "cell_type": "code",
      "source": [
        "#%%\n",
        "Tra=np.array(bkup)/(G/T)                          #Calculamos a média final da quantidade trabalhadores em cada setor (coletamos os dados a cada T passo durante G passos)\n",
        "a=N*c/l                                           # A distribuição ideal de trabalhadores\n",
        "print(\"Quantidadede trabalhadores em cada setor:\")\n",
        "for x in range(len(Tra)):\n",
        "    print(\"Quantidade ideal:  {:.0f} - Quantidade média:  {:.0f}\".format(a[x],Tra[x]))\n",
        "\n"
      ],
      "metadata": {
        "colab": {
          "base_uri": "https://localhost:8080/"
        },
        "id": "NIPMNflY5TIo",
        "outputId": "c6ed41aa-0bfe-4477-927e-20867431c24a"
      },
      "execution_count": 73,
      "outputs": [
        {
          "output_type": "stream",
          "name": "stdout",
          "text": [
            "Quantidadede trabalhadores em cada setor:\n",
            "Quantidade ideal:  25 - Quantidade média:  25\n",
            "Quantidade ideal:  25 - Quantidade média:  25\n",
            "Quantidade ideal:  50 - Quantidade média:  50\n"
          ]
        }
      ]
    },
    {
      "cell_type": "code",
      "source": [
        "medias=[]\n",
        "for x in range(L):\n",
        "  medias.append(np.array(bkup2[x]).mean())  #Calculamos o preço médio de cada mercadoria\n",
        "correlation, _ = pearsonr(medias, Producao) #E testamos a correlação com os valores\n",
        "print(\"A correlação de Person entre o preço médio e o valor de cada mercadoria é {:.2f}\".format(correlation))\n",
        "\n",
        "for m in range(L):\n",
        "  print('O preço médio da mercadoria {:.0f} é R${:.2f}, e seu valor {:.2f}'.format(m,medias[m],Producao[m]))"
      ],
      "metadata": {
        "colab": {
          "base_uri": "https://localhost:8080/"
        },
        "id": "CKkzPF7OD7-H",
        "outputId": "d24942a2-1387-45f2-b1f2-71d1bf387392"
      },
      "execution_count": 76,
      "outputs": [
        {
          "output_type": "stream",
          "name": "stdout",
          "text": [
            "A correlação de Person entre o preço médio e o valor de cada mercadoria é 1.00\n",
            "O preço médio da mercadoria 0 é R$25.89, e seu valor 2.00\n",
            "O preço médio da mercadoria 1 é R$35.79, e seu valor 4.00\n",
            "O preço médio da mercadoria 2 é R$45.24, e seu valor 6.00\n"
          ]
        }
      ]
    },
    {
      "cell_type": "markdown",
      "source": [
        "Já podemos ver uma relação linear. Se escrevermos uma reta que passa pelos pontos $\\left(2,24.19\\right)$ e $\\left(6,45.27\\right)$ então ela teria um inclinação de $a=\\left(45.27-24.19\\right)/\\left(6-2\\right)=5.27$. E a equação da reta ficaria:\n",
        "\n",
        "\\begin{equation}\n",
        "y=ax+b\\rightarrow b=y-ax=24.19-5.27\\cdot2 = 13.65\n",
        "\\end{equation}"
      ],
      "metadata": {
        "id": "TMNpG8s2ItIf"
      }
    },
    {
      "cell_type": "code",
      "source": [
        "for x in range(L):\n",
        "  est=5.27*Producao[x]+13.65\n",
        "  print('O preço estimado pra uma mercadoria de {:.2f} valor é R${:.2f}'.format(Producao[x],est))"
      ],
      "metadata": {
        "colab": {
          "base_uri": "https://localhost:8080/"
        },
        "id": "_PEeB-HgEHXQ",
        "outputId": "b9332606-7cfe-497b-ed67-5cc664a0d981"
      },
      "execution_count": 27,
      "outputs": [
        {
          "output_type": "stream",
          "name": "stdout",
          "text": [
            "O preço estimado pra uma mercadoria de 2.00 valor é R$24.19\n",
            "O preço estimado pra uma mercadoria de 4.00 valor é R$34.73\n",
            "O preço estimado pra uma mercadoria de 6.00 valor é R$45.27\n"
          ]
        }
      ]
    },
    {
      "cell_type": "markdown",
      "source": [
        "Obviamente os extremos deveriam cair sobre a reta pois construímos a reta assim, mas o preço da mercadoria de valor intermediário estimado também é extremamente próximo da média calculada. Isso significa que nesta simulação, cada mercadoria tem 13.65 de preço por existir e a partir de então, pra cada unidade de valor contida na mercadoria, seu preço aumenta em 5.27. Isto é uma relação linear entre preço e valor.\n"
      ],
      "metadata": {
        "id": "bJ593W9jLLqW"
      }
    },
    {
      "cell_type": "code",
      "source": [
        "k=0\n",
        "c=0\n",
        "for x in bkup2[2]:\n",
        "  c+=1\n",
        "  if (x==0):\n",
        "    k+=1\n",
        "print(k/c)"
      ],
      "metadata": {
        "id": "vn5SMoROgTe5",
        "outputId": "cdd2558c-5335-47f6-ebaf-3b10863841f3",
        "colab": {
          "base_uri": "https://localhost:8080/"
        }
      },
      "execution_count": 57,
      "outputs": [
        {
          "output_type": "stream",
          "name": "stdout",
          "text": [
            "0.0838715437959463\n"
          ]
        }
      ]
    },
    {
      "cell_type": "code",
      "source": [
        "din=0;val=0;x=1\n",
        "for k in range(len(bkup2[x])):\n",
        "  if(bkup2[x][k]!=0):\n",
        "    din+=bkup2[x][k]\n",
        "    val+=Producao[x]\n",
        "print(din/val)"
      ],
      "metadata": {
        "id": "P3yb0gRXTD_6",
        "outputId": "d7ea4c5a-d7a4-4501-8086-443dfe99642f",
        "colab": {
          "base_uri": "https://localhost:8080/"
        }
      },
      "execution_count": 63,
      "outputs": [
        {
          "output_type": "stream",
          "name": "stdout",
          "text": [
            "10.439752660018941\n"
          ]
        }
      ]
    },
    {
      "cell_type": "code",
      "source": [
        "medias"
      ],
      "metadata": {
        "id": "GiHdcrEZESCO",
        "outputId": "f83b9d21-a53d-436d-ed89-b9d4796c66e9",
        "colab": {
          "base_uri": "https://localhost:8080/"
        }
      },
      "execution_count": 77,
      "outputs": [
        {
          "output_type": "execute_result",
          "data": {
            "text/plain": [
              "[np.float64(25.89425511197663),\n",
              " np.float64(35.78775530487502),\n",
              " np.float64(45.24001681378731)]"
            ]
          },
          "metadata": {},
          "execution_count": 77
        }
      ]
    },
    {
      "cell_type": "code",
      "source": [
        "plt.hist(bkup2,bins=500)\n",
        "plt.xlim(0,20)"
      ],
      "metadata": {
        "id": "ACK17K2xXlWE",
        "outputId": "c4c89c35-ca70-40e3-e4fa-224bdd3a6576",
        "colab": {
          "base_uri": "https://localhost:8080/",
          "height": 447
        }
      },
      "execution_count": 71,
      "outputs": [
        {
          "output_type": "execute_result",
          "data": {
            "text/plain": [
              "(0.0, 20.0)"
            ]
          },
          "metadata": {},
          "execution_count": 71
        },
        {
          "output_type": "display_data",
          "data": {
            "text/plain": [
              "<Figure size 640x480 with 1 Axes>"
            ],
            "image/png": "[encoded data removed]"
          },
          "metadata": {}
        }
      ]
    },
    {
      "cell_type": "code",
      "source": [],
      "metadata": {
        "id": "LWn8x5yMYQiz"
      },
      "execution_count": null,
      "outputs": []
    }
  ]
}