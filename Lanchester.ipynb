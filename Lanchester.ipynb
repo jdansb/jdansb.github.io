{
  "nbformat": 4,
  "nbformat_minor": 0,
  "metadata": {
    "colab": {
      "provenance": [],
      "authorship_tag": "ABX9TyPrq1wDz5/X59z+qmUi7o3u",
      "include_colab_link": true
    },
    "kernelspec": {
      "name": "python3",
      "display_name": "Python 3"
    },
    "language_info": {
      "name": "python"
    }
  },
  "cells": [
    {
      "cell_type": "markdown",
      "metadata": {
        "id": "view-in-github",
        "colab_type": "text"
      },
      "source": [
        "<a href=\"https://colab.research.google.com/github/jdansb/jdansb.github.io/blob/main/Lanchester.ipynb\" target=\"_parent\"><img src=\"https://colab.research.google.com/assets/colab-badge.svg\" alt=\"Open In Colab\"/></a>"
      ]
    },
    {
      "cell_type": "markdown",
      "source": [
        "Mais sobre as leis de Lancester podem ser vistas na [wikipedia](https://en.wikipedia.org/wiki/Lanchester%27s_laws#cite_note-chimps-11).\n",
        "\n",
        "Começando com a lei ao quadrado de Lanchester, ele modela um conflito onde dois exércitos estão atancando continuamente um ao outro. Neste modelo simples, a única coisa que importa seria a quantidade de unidades de cada lado $x$ e $y$ e o poder de fogo médio de cada unidade que resulta em uma taxa de eliminação do inimigo. Isto é, há uma homogenidade em cada um dos exércitos.\n",
        "\n",
        "Neste caso podemos modelar o sistema da seguinte forma:\n",
        "$$\\frac{dx}{dt} = -ay\\\\\n",
        "\\frac{dy}{dt} =-bx$$\n",
        "\n"
      ],
      "metadata": {
        "id": "2ne7lc-jcY4n"
      }
    },
    {
      "cell_type": "code",
      "execution_count": null,
      "metadata": {
        "id": "wPSN4-ehcPNf"
      },
      "outputs": [],
      "source": []
    }
  ]
}