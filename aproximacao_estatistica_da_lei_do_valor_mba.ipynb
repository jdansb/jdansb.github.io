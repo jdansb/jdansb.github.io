{
  "nbformat": 4,
  "nbformat_minor": 0,
  "metadata": {
    "colab": {
      "provenance": [],
      "name": "aproximacao_estatistica_da_lei_do_valor_mba.ipynb",
      "authorship_tag": "ABX9TyMmBk6YF5mG5i043840k7ZX",
      "include_colab_link": true
    },
    "kernelspec": {
      "name": "python3",
      "display_name": "Python 3"
    },
    "language_info": {
      "name": "python"
    }
  },
  "cells": [
    {
      "cell_type": "markdown",
      "metadata": {
        "id": "view-in-github",
        "colab_type": "text"
      },
      "source": [
        "<a href=\"https://colab.research.google.com/github/jdansb/jdansb.github.io/blob/main/aproximacao_estatistica_da_lei_do_valor_mba.ipynb\" target=\"_parent\"><img src=\"https://colab.research.google.com/assets/colab-badge.svg\" alt=\"Open In Colab\"/></a>"
      ]
    },
    {
      "cell_type": "code",
      "execution_count": null,
      "metadata": {
        "id": "qwtUf3ZaacqY"
      },
      "outputs": [],
      "source": [
        "import numpy  as np\n",
        "import random\n",
        "\n",
        "#Parâmetros\n",
        "N = 10      #Númerode trabalhadores\n",
        "L = 2       #Quantidad de mercadorias\n",
        "M = N*10    #Quantidade total de dinheiro\n",
        "passos = 13 #Qquantidade de passos da simulação\n",
        "\n",
        "#Vetores e matrizes\n",
        "E=np.zeros((N,L))                           #Mercadorias em posse de cada agente, cada linha é um vetor ei\n",
        "A=np.zeros(N)                     #Vetor com a mercadoria sendo produzida pelo agente i\n",
        "D=np.zeros((N,L)) #Matriz com o deficit de consumo de cada gente de cada mercadoria, cada linha é uma matriz di\n",
        "m=np.full(N, M/N)                                 # Dinheiro de cada agente\n",
        "\n",
        "l=np.random.random(L)  # Incremente a cada passo na produção de cada mercadoria\n",
        "c=np.random.random(L)  # Aumento de desejo a cada passo de cada mercadoria\n",
        "F=np.sum(l/c)          # Calculando o fator de reescala\n",
        "c=c/F                  # Fazendo"
      ]
    }
  ]
}