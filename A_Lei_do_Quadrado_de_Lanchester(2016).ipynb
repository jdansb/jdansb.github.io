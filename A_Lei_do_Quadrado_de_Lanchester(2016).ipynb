{
  "nbformat": 4,
  "nbformat_minor": 0,
  "metadata": {
    "colab": {
      "provenance": [],
      "authorship_tag": "ABX9TyMP2+QGLBm5X50HIJxj6LBW",
      "include_colab_link": true
    },
    "kernelspec": {
      "name": "python3",
      "display_name": "Python 3"
    },
    "language_info": {
      "name": "python"
    }
  },
  "cells": [
    {
      "cell_type": "markdown",
      "metadata": {
        "id": "view-in-github",
        "colab_type": "text"
      },
      "source": [
        "<a href=\"https://colab.research.google.com/github/jdansb/jdansb.github.io/blob/main/A_Lei_do_Quadrado_de_Lanchester(2016).ipynb\" target=\"_parent\"><img src=\"https://colab.research.google.com/assets/colab-badge.svg\" alt=\"Open In Colab\"/></a>"
      ]
    },
    {
      "cell_type": "markdown",
      "source": [
        "A versão completa pode ser encontrada [aqui](https://www.mindef.gov.sg/oms/safti/pointer/documents/pdf/Vol42No2_5%20Lanchester%20Square%20Law.pdf)."
      ],
      "metadata": {
        "id": "bqvqnITngLIQ"
      }
    },
    {
      "cell_type": "code",
      "execution_count": null,
      "metadata": {
        "id": "wPSN4-ehcPNf"
      },
      "outputs": [],
      "source": []
    }
  ]
}